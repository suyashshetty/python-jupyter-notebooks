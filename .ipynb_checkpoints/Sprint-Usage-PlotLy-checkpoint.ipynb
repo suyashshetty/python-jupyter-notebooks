{
 "cells": [
  {
   "cell_type": "code",
   "execution_count": null,
   "metadata": {},
   "outputs": [],
   "source": [
    "%matplotlib inline\n",
    "import pandas as pd\n",
    "import seaborn as sns"
   ]
  },
  {
   "cell_type": "markdown",
   "metadata": {},
   "source": [
    "# Loading the call log "
   ]
  },
  {
   "cell_type": "code",
   "execution_count": null,
   "metadata": {},
   "outputs": [],
   "source": [
    "# phone calls dataset\n",
    "phoneLog = pd.read_csv('./data/SprintNov2016.csv', na_values=['NA'])\n",
    "phoneLog.dtypes\n"
   ]
  },
  {
   "cell_type": "code",
   "execution_count": null,
   "metadata": {},
   "outputs": [],
   "source": [
    "phoneLog.head()"
   ]
  },
  {
   "cell_type": "code",
   "execution_count": null,
   "metadata": {},
   "outputs": [],
   "source": [
    "phoneLog.isnull().sum()"
   ]
  },
  {
   "cell_type": "code",
   "execution_count": null,
   "metadata": {},
   "outputs": [],
   "source": [
    "phoneLog.loc[phoneLog['DESTINATION'] == 'Incoming,', 'DESTINATION'] = 'Incoming'\n",
    "phoneLog.head()"
   ]
  },
  {
   "cell_type": "markdown",
   "metadata": {},
   "source": [
    "<b><u>Check the dataset for nulls </u></b>"
   ]
  },
  {
   "cell_type": "code",
   "execution_count": null,
   "metadata": {},
   "outputs": [],
   "source": [
    "phoneLog.isnull().sum()"
   ]
  },
  {
   "cell_type": "code",
   "execution_count": null,
   "metadata": {},
   "outputs": [],
   "source": [
    "phoneLog['DESTINATION'].unique()"
   ]
  },
  {
   "cell_type": "code",
   "execution_count": null,
   "metadata": {},
   "outputs": [],
   "source": [
    "inout = phoneLog[['DESTINATION','MINUTES USED']]\n",
    "inout_group = pd.DataFrame(inout.groupby('DESTINATION')['MINUTES USED'].sum()).reset_index()\n",
    "inout_group\n"
   ]
  },
  {
   "cell_type": "code",
   "execution_count": null,
   "metadata": {},
   "outputs": [],
   "source": [
    "outg = inout_group.loc[inout_group['DESTINATION'].str.strip() != 'Incoming']\n",
    "outg\n",
    "\n",
    "outg.loc[outg['DESTINATION'].str.contains(','), 'State'] = outg['DESTINATION'].str.split(',').str.get(1)\n",
    "outg.loc[outg['DESTINATION'].str.contains(','), 'City'] = outg['DESTINATION'].str.split(',').str.get(0)\n",
    "outg.head()\n",
    "\n"
   ]
  },
  {
   "cell_type": "code",
   "execution_count": null,
   "metadata": {},
   "outputs": [],
   "source": [
    "# Check for null\n",
    "outg.isnull().sum()"
   ]
  },
  {
   "cell_type": "markdown",
   "metadata": {},
   "source": [
    "Get all unique end points for the call. \n",
    "The list shows all the unique details for all call logs"
   ]
  },
  {
   "cell_type": "code",
   "execution_count": null,
   "metadata": {},
   "outputs": [],
   "source": [
    "from pygeocoder import Geocoder\n",
    "import time\n",
    "countCity = 0\n",
    "locs = []\n",
    "for addr in outg['City']:\n",
    "    countCity += 1\n",
    "    if(countCity % 10 == 0):\n",
    "        time.sleep(1)\n",
    "    locs.append(Geocoder.geocode(addr))\n",
    "    print(countCity)\n",
    "\n",
    "geo_info = pd.DataFrame(\n",
    "    [ (addr.city, addr.latitude, addr.longitude) for addr in locs ],\n",
    "    columns=['city','latitude', 'longitude'])\n"
   ]
  },
  {
   "cell_type": "code",
   "execution_count": null,
   "metadata": {},
   "outputs": [],
   "source": [
    "geo_info['city'] = map(lambda x: str(x).upper(), geo_info['city'])\n",
    "geo_info"
   ]
  },
  {
   "cell_type": "markdown",
   "metadata": {},
   "source": [
    "Merge the data"
   ]
  },
  {
   "cell_type": "code",
   "execution_count": null,
   "metadata": {},
   "outputs": [],
   "source": [
    "outg = outg.reset_index(drop=True)\n",
    "result = pd.concat([outg, geo_info], axis=1).sort_values(by='MINUTES USED', ascending=False).reset_index(drop=True)\n",
    "result\n",
    "\n",
    "#result = pd.merge(outg, geo_info, how='left',left_on=['City'], right_on= ['city'])\n",
    "#result"
   ]
  },
  {
   "cell_type": "code",
   "execution_count": null,
   "metadata": {},
   "outputs": [],
   "source": [
    "import plotly.plotly as py\n",
    "py.sign_in('<plotly-username>','<plotly-key>')\n",
    "\n",
    "scl = [ [0,\"rgb(5, 10, 172)\"],[0.35,\"rgb(40, 60, 190)\"],[0.5,\"rgb(70, 100, 245)\"],\\\n",
    "    [0.6,\"rgb(90, 120, 245)\"],[0.7,\"rgb(106, 137, 247)\"],[1,\"rgb(220, 220, 220)\"] ]\n",
    "\n",
    "result['text'] = result['City'] + ', ' + result['State'] + '' + ' -> Calls: ' + result['MINUTES USED'].astype(str)\n",
    "\n",
    "data = [ dict(\n",
    "        type = 'scattergeo',\n",
    "        locationmode = 'USA-states',\n",
    "        lon = result['longitude'],\n",
    "        lat = result['latitude'],\n",
    "        text = result['text'],\n",
    "        mode = 'markers',\n",
    "        marker = dict( \n",
    "            size = 8, \n",
    "            opacity = 0.8,\n",
    "            reversescale = True,\n",
    "            autocolorscale = False,\n",
    "            symbol = 'circle',\n",
    "            line = dict(\n",
    "                width=1,\n",
    "                color='rgba(102, 102, 102)'\n",
    "            ),\n",
    "            colorscale = scl,\n",
    "            cmin = 0,\n",
    "            color = result['MINUTES USED'],\n",
    "            cmax = result['MINUTES USED'].max(),\n",
    "            colorbar=dict(\n",
    "                title=\"Outgoing Calls - September 2016\"\n",
    "            )\n",
    "        ))]\n",
    "\n",
    "layout = dict(\n",
    "        title = 'Outgoing Call Distribution',\n",
    "        colorbar = True,   \n",
    "        geo = dict(\n",
    "            scope='usa',\n",
    "            projection=dict( type='albers usa' ),\n",
    "            showland = True,\n",
    "            landcolor = \"rgb(250, 250, 250)\",\n",
    "            subunitcolor = \"rgb(217, 217, 217)\",\n",
    "            countrycolor = \"rgb(217, 217, 217)\",\n",
    "            countrywidth = 0.5,\n",
    "            subunitwidth = 0.5        \n",
    "        ),\n",
    "    )\n",
    "\n",
    "fig = dict( data=data, layout=layout )\n",
    "py.iplot( fig, validate=False, filename='September - 2016' )"
   ]
  },
  {
   "cell_type": "code",
   "execution_count": null,
   "metadata": {},
   "outputs": [],
   "source": [
    "limits = [(0,3),(4,8),(9,13),(13,16),(17,20)]\n",
    "colors = [\"rgb(0,116,217)\",\"rgb(255,65,54)\",\"rgb(133,20,75)\",\"rgb(255,133,27)\",\"lightgrey\"]\n",
    "cities = []\n",
    "scale = 1\n",
    "length = len(result.index)\n",
    "\n",
    "for i in range(len(limits)):\n",
    "    if limits[i][0] <= length:\n",
    "        lim = limits[i]\n",
    "        upperlim = lim[1] if lim[1]<length else length-1\n",
    "        print(str(lim[0]) + \" - \" + str(upperlim) )\n",
    "        df_sub = result[lim[0]:upperlim]\n",
    "        city = dict(\n",
    "               type = 'scattergeo',\n",
    "               locationmode = 'USA-states',\n",
    "               lon = df_sub['longitude'],\n",
    "               lat = df_sub['latitude'],\n",
    "               text = df_sub['text'],\n",
    "               marker = dict(\n",
    "                   size = (df_sub['MINUTES USED'] + 1) * 20,\n",
    "                   color = colors[i],\n",
    "                   line = dict(width=0.5, color='rgb(40,40,40)'),\n",
    "                   sizemode = 'area'\n",
    "         ),\n",
    "        name = '{0} - {1}'.format(result['MINUTES USED'].iloc[upperlim],result['MINUTES USED'].iloc[lim[0]]) )\n",
    "        cities.append(city)\n",
    "\n",
    "        layout = dict(\n",
    "            title = 'Nov 2016 Call Distribution <br>(Click legend to toggle traces)',\n",
    "            showlegend = True,\n",
    "            geo = dict(\n",
    "                scope='usa',\n",
    "                projection=dict( type='albers usa' ),\n",
    "                showland = True,\n",
    "                landcolor = 'rgb(217, 217, 217)',\n",
    "                subunitwidth=1,\n",
    "                countrywidth=1,\n",
    "                subunitcolor=\"rgb(255, 255, 255)\",\n",
    "                countrycolor=\"rgb(255, 255, 255)\"\n",
    "            ),\n",
    "        )\n",
    "\n",
    "fig = dict( data=cities, layout=layout )\n",
    "py.iplot( fig, validate=False, filename='d3-bubble-map-outgoing-calls-nov-2016' )"
   ]
  },
  {
   "cell_type": "code",
   "execution_count": null,
   "metadata": {},
   "outputs": [],
   "source": [
    "import matplotlib.pyplot as plt\n",
    "result.plot(x='City', y='MINUTES USED', kind='bar', layout=[('MINUTES USED')])"
   ]
  },
  {
   "cell_type": "code",
   "execution_count": null,
   "metadata": {},
   "outputs": [],
   "source": [
    "result.plot(x='City', y='MINUTES USED', kind='barh')"
   ]
  },
  {
   "cell_type": "markdown",
   "metadata": {
    "collapsed": true
   },
   "source": [
    "# Top 10 Outgoing"
   ]
  },
  {
   "cell_type": "code",
   "execution_count": null,
   "metadata": {},
   "outputs": [],
   "source": [
    "calls = phoneLog[['PHONE','MINUTES USED', 'DESTINATION']]\n",
    "calls_outgoing = calls.loc[calls['DESTINATION'] != 'Incoming']\n",
    "#calls_filter.loc[calls_filter['DESTINATION'] != 'Incoming'].count()\n",
    "calls_out_grp = pd.DataFrame(calls_outgoing.groupby('PHONE')['MINUTES USED'].sum()).reset_index()\n",
    "Top10_Outgoing = calls_out_grp.sort_values(by='MINUTES USED', ascending=False)[:10].reset_index()\n",
    "Top10_Outgoing"
   ]
  },
  {
   "cell_type": "markdown",
   "metadata": {
    "collapsed": true
   },
   "source": [
    "# Top 10 Incoming"
   ]
  },
  {
   "cell_type": "code",
   "execution_count": null,
   "metadata": {
    "scrolled": true
   },
   "outputs": [],
   "source": [
    "calls = phoneLog[['PHONE','MINUTES USED', 'DESTINATION']]\n",
    "calls_incoming = calls.loc[calls['DESTINATION'] == 'Incoming,']\n",
    "#calls_filter.loc[calls_filter['DESTINATION'] != 'Incoming'].count()\n",
    "calls_in_grp = pd.DataFrame(calls_incoming.groupby('PHONE')['MINUTES USED'].sum()).reset_index()\n",
    "Top10_Incoming = calls_in_grp.sort_values(by='MINUTES USED', ascending=False)[:10].reset_index()\n",
    "Top10_Incoming"
   ]
  },
  {
   "cell_type": "markdown",
   "metadata": {},
   "source": [
    "# Common numbers in Top 10 call list"
   ]
  },
  {
   "cell_type": "code",
   "execution_count": null,
   "metadata": {},
   "outputs": [],
   "source": [
    "pd.Series(list(set(Top10_Outgoing['PHONE']).intersection(set(Top10_Incoming['PHONE']))))"
   ]
  },
  {
   "cell_type": "code",
   "execution_count": null,
   "metadata": {
    "collapsed": true
   },
   "outputs": [],
   "source": []
  }
 ],
 "metadata": {
  "anaconda-cloud": {},
  "kernelspec": {
   "display_name": "Python 2",
   "language": "python",
   "name": "python2"
  },
  "language_info": {
   "codemirror_mode": {
    "name": "ipython",
    "version": 2
   },
   "file_extension": ".py",
   "mimetype": "text/x-python",
   "name": "python",
   "nbconvert_exporter": "python",
   "pygments_lexer": "ipython2",
   "version": "2.7.13"
  }
 },
 "nbformat": 4,
 "nbformat_minor": 1
}
