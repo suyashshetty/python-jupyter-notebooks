{
 "cells": [
  {
   "cell_type": "code",
   "execution_count": 1,
   "metadata": {
    "collapsed": false
   },
   "outputs": [],
   "source": [
    "%matplotlib inline\n",
    "import pandas as pd\n",
    "import seaborn as sns"
   ]
  },
  {
   "cell_type": "markdown",
   "metadata": {},
   "source": [
    "# Loading the call log "
   ]
  },
  {
   "cell_type": "code",
   "execution_count": 3,
   "metadata": {
    "collapsed": false
   },
   "outputs": [
    {
     "data": {
      "text/plain": [
       "DATE            object\n",
       "TIME            object\n",
       "PHONE           object\n",
       "DESTINATION     object\n",
       "MINUTES USED     int64\n",
       "dtype: object"
      ]
     },
     "execution_count": 3,
     "metadata": {},
     "output_type": "execute_result"
    }
   ],
   "source": [
    "# phone calls dataset\n",
    "phoneLog = pd.read_csv('./data/SprintNov2016.csv', na_values=['NA'])\n",
    "phoneLog.dtypes\n"
   ]
  },
  {
   "cell_type": "code",
   "execution_count": 4,
   "metadata": {
    "collapsed": false
   },
   "outputs": [
    {
     "data": {
      "text/html": [
       "<div>\n",
       "<table border=\"1\" class=\"dataframe\">\n",
       "  <thead>\n",
       "    <tr style=\"text-align: right;\">\n",
       "      <th></th>\n",
       "      <th>DATE</th>\n",
       "      <th>TIME</th>\n",
       "      <th>PHONE</th>\n",
       "      <th>DESTINATION</th>\n",
       "      <th>MINUTES USED</th>\n",
       "    </tr>\n",
       "  </thead>\n",
       "  <tbody>\n",
       "    <tr>\n",
       "      <th>0</th>\n",
       "      <td>11/29/2016</td>\n",
       "      <td>6:54 PM</td>\n",
       "      <td>469-237-6876</td>\n",
       "      <td>Incoming,</td>\n",
       "      <td>1</td>\n",
       "    </tr>\n",
       "    <tr>\n",
       "      <th>1</th>\n",
       "      <td>11/29/2016</td>\n",
       "      <td>4:20 PM</td>\n",
       "      <td>469-909-9993</td>\n",
       "      <td>GRAND PRAR,TX</td>\n",
       "      <td>1</td>\n",
       "    </tr>\n",
       "    <tr>\n",
       "      <th>2</th>\n",
       "      <td>11/29/2016</td>\n",
       "      <td>4:16 PM</td>\n",
       "      <td>469-909-9993</td>\n",
       "      <td>GRAND PRAR,TX</td>\n",
       "      <td>1</td>\n",
       "    </tr>\n",
       "    <tr>\n",
       "      <th>3</th>\n",
       "      <td>11/29/2016</td>\n",
       "      <td>4:13 PM</td>\n",
       "      <td>469-909-9993</td>\n",
       "      <td>GRAND PRAR,TX</td>\n",
       "      <td>1</td>\n",
       "    </tr>\n",
       "    <tr>\n",
       "      <th>4</th>\n",
       "      <td>11/29/2016</td>\n",
       "      <td>3:52 PM</td>\n",
       "      <td>469-909-9993</td>\n",
       "      <td>GRAND PRAR,TX</td>\n",
       "      <td>1</td>\n",
       "    </tr>\n",
       "  </tbody>\n",
       "</table>\n",
       "</div>"
      ],
      "text/plain": [
       "         DATE     TIME         PHONE    DESTINATION  MINUTES USED\n",
       "0  11/29/2016  6:54 PM  469-237-6876      Incoming,             1\n",
       "1  11/29/2016  4:20 PM  469-909-9993  GRAND PRAR,TX             1\n",
       "2  11/29/2016  4:16 PM  469-909-9993  GRAND PRAR,TX             1\n",
       "3  11/29/2016  4:13 PM  469-909-9993  GRAND PRAR,TX             1\n",
       "4  11/29/2016  3:52 PM  469-909-9993  GRAND PRAR,TX             1"
      ]
     },
     "execution_count": 4,
     "metadata": {},
     "output_type": "execute_result"
    }
   ],
   "source": [
    "phoneLog.head()"
   ]
  },
  {
   "cell_type": "code",
   "execution_count": 4,
   "metadata": {
    "collapsed": false
   },
   "outputs": [
    {
     "data": {
      "text/plain": [
       "DATE            0\n",
       "TIME            0\n",
       "PHONE           0\n",
       "DESTINATION     0\n",
       "MINUTES USED    0\n",
       "dtype: int64"
      ]
     },
     "execution_count": 4,
     "metadata": {},
     "output_type": "execute_result"
    }
   ],
   "source": [
    "phoneLog.isnull().sum()"
   ]
  },
  {
   "cell_type": "code",
   "execution_count": 5,
   "metadata": {
    "collapsed": false
   },
   "outputs": [
    {
     "data": {
      "text/html": [
       "<div>\n",
       "<table border=\"1\" class=\"dataframe\">\n",
       "  <thead>\n",
       "    <tr style=\"text-align: right;\">\n",
       "      <th></th>\n",
       "      <th>DATE</th>\n",
       "      <th>TIME</th>\n",
       "      <th>PHONE</th>\n",
       "      <th>DESTINATION</th>\n",
       "      <th>MINUTES USED</th>\n",
       "    </tr>\n",
       "  </thead>\n",
       "  <tbody>\n",
       "    <tr>\n",
       "      <th>0</th>\n",
       "      <td>11/29/2016</td>\n",
       "      <td>6:54 PM</td>\n",
       "      <td>469-237-6876</td>\n",
       "      <td>Incoming</td>\n",
       "      <td>1</td>\n",
       "    </tr>\n",
       "    <tr>\n",
       "      <th>1</th>\n",
       "      <td>11/29/2016</td>\n",
       "      <td>4:20 PM</td>\n",
       "      <td>469-909-9993</td>\n",
       "      <td>GRAND PRAR,TX</td>\n",
       "      <td>1</td>\n",
       "    </tr>\n",
       "    <tr>\n",
       "      <th>2</th>\n",
       "      <td>11/29/2016</td>\n",
       "      <td>4:16 PM</td>\n",
       "      <td>469-909-9993</td>\n",
       "      <td>GRAND PRAR,TX</td>\n",
       "      <td>1</td>\n",
       "    </tr>\n",
       "    <tr>\n",
       "      <th>3</th>\n",
       "      <td>11/29/2016</td>\n",
       "      <td>4:13 PM</td>\n",
       "      <td>469-909-9993</td>\n",
       "      <td>GRAND PRAR,TX</td>\n",
       "      <td>1</td>\n",
       "    </tr>\n",
       "    <tr>\n",
       "      <th>4</th>\n",
       "      <td>11/29/2016</td>\n",
       "      <td>3:52 PM</td>\n",
       "      <td>469-909-9993</td>\n",
       "      <td>GRAND PRAR,TX</td>\n",
       "      <td>1</td>\n",
       "    </tr>\n",
       "  </tbody>\n",
       "</table>\n",
       "</div>"
      ],
      "text/plain": [
       "         DATE     TIME         PHONE    DESTINATION  MINUTES USED\n",
       "0  11/29/2016  6:54 PM  469-237-6876       Incoming             1\n",
       "1  11/29/2016  4:20 PM  469-909-9993  GRAND PRAR,TX             1\n",
       "2  11/29/2016  4:16 PM  469-909-9993  GRAND PRAR,TX             1\n",
       "3  11/29/2016  4:13 PM  469-909-9993  GRAND PRAR,TX             1\n",
       "4  11/29/2016  3:52 PM  469-909-9993  GRAND PRAR,TX             1"
      ]
     },
     "execution_count": 5,
     "metadata": {},
     "output_type": "execute_result"
    }
   ],
   "source": [
    "phoneLog.loc[phoneLog['DESTINATION'] == 'Incoming,', 'DESTINATION'] = 'Incoming'\n",
    "phoneLog.head()"
   ]
  },
  {
   "cell_type": "markdown",
   "metadata": {},
   "source": [
    "<b><u>Check the dataset for nulls </u></b>"
   ]
  },
  {
   "cell_type": "code",
   "execution_count": 5,
   "metadata": {
    "collapsed": false
   },
   "outputs": [
    {
     "data": {
      "text/plain": [
       "DATE            0\n",
       "TIME            0\n",
       "PHONE           0\n",
       "DESTINATION     0\n",
       "MINUTES USED    0\n",
       "dtype: int64"
      ]
     },
     "execution_count": 5,
     "metadata": {},
     "output_type": "execute_result"
    }
   ],
   "source": [
    "phoneLog.isnull().sum()"
   ]
  },
  {
   "cell_type": "code",
   "execution_count": 7,
   "metadata": {
    "collapsed": false
   },
   "outputs": [
    {
     "data": {
      "text/plain": [
       "array(['Incoming', 'GRAND PRAR,TX', 'BEAUMONT,TX', 'FRISCO,TX',\n",
       "       'FLS CHURCH,VA', 'SYRACUSE,NY', 'CLARENCE,NY', 'ARLINGTON,TX',\n",
       "       'MCKINNEY,TX', 'EDEN PRAIR,MN', 'DALLAS,TX'], dtype=object)"
      ]
     },
     "execution_count": 7,
     "metadata": {},
     "output_type": "execute_result"
    }
   ],
   "source": [
    "phoneLog['DESTINATION'].unique()"
   ]
  },
  {
   "cell_type": "code",
   "execution_count": 6,
   "metadata": {
    "collapsed": false
   },
   "outputs": [
    {
     "data": {
      "text/html": [
       "<div>\n",
       "<table border=\"1\" class=\"dataframe\">\n",
       "  <thead>\n",
       "    <tr style=\"text-align: right;\">\n",
       "      <th></th>\n",
       "      <th>DESTINATION</th>\n",
       "      <th>MINUTES USED</th>\n",
       "    </tr>\n",
       "  </thead>\n",
       "  <tbody>\n",
       "    <tr>\n",
       "      <th>0</th>\n",
       "      <td>ARLINGTON,TX</td>\n",
       "      <td>5</td>\n",
       "    </tr>\n",
       "    <tr>\n",
       "      <th>1</th>\n",
       "      <td>BEAUMONT,TX</td>\n",
       "      <td>66</td>\n",
       "    </tr>\n",
       "    <tr>\n",
       "      <th>2</th>\n",
       "      <td>CLARENCE,NY</td>\n",
       "      <td>3</td>\n",
       "    </tr>\n",
       "    <tr>\n",
       "      <th>3</th>\n",
       "      <td>DALLAS,TX</td>\n",
       "      <td>1</td>\n",
       "    </tr>\n",
       "    <tr>\n",
       "      <th>4</th>\n",
       "      <td>EDEN PRAIR,MN</td>\n",
       "      <td>1</td>\n",
       "    </tr>\n",
       "    <tr>\n",
       "      <th>5</th>\n",
       "      <td>FLS CHURCH,VA</td>\n",
       "      <td>3</td>\n",
       "    </tr>\n",
       "    <tr>\n",
       "      <th>6</th>\n",
       "      <td>FRISCO,TX</td>\n",
       "      <td>63</td>\n",
       "    </tr>\n",
       "    <tr>\n",
       "      <th>7</th>\n",
       "      <td>GRAND PRAR,TX</td>\n",
       "      <td>38</td>\n",
       "    </tr>\n",
       "    <tr>\n",
       "      <th>8</th>\n",
       "      <td>Incoming,</td>\n",
       "      <td>112</td>\n",
       "    </tr>\n",
       "    <tr>\n",
       "      <th>9</th>\n",
       "      <td>MCKINNEY,TX</td>\n",
       "      <td>5</td>\n",
       "    </tr>\n",
       "    <tr>\n",
       "      <th>10</th>\n",
       "      <td>SYRACUSE,NY</td>\n",
       "      <td>4</td>\n",
       "    </tr>\n",
       "  </tbody>\n",
       "</table>\n",
       "</div>"
      ],
      "text/plain": [
       "      DESTINATION  MINUTES USED\n",
       "0    ARLINGTON,TX             5\n",
       "1     BEAUMONT,TX            66\n",
       "2     CLARENCE,NY             3\n",
       "3       DALLAS,TX             1\n",
       "4   EDEN PRAIR,MN             1\n",
       "5   FLS CHURCH,VA             3\n",
       "6       FRISCO,TX            63\n",
       "7   GRAND PRAR,TX            38\n",
       "8       Incoming,           112\n",
       "9     MCKINNEY,TX             5\n",
       "10    SYRACUSE,NY             4"
      ]
     },
     "execution_count": 6,
     "metadata": {},
     "output_type": "execute_result"
    }
   ],
   "source": [
    "inout = phoneLog[['DESTINATION','MINUTES USED']]\n",
    "inout_group = pd.DataFrame(inout.groupby('DESTINATION')['MINUTES USED'].sum()).reset_index()\n",
    "inout_group\n"
   ]
  },
  {
   "cell_type": "code",
   "execution_count": 8,
   "metadata": {
    "collapsed": false
   },
   "outputs": [
    {
     "data": {
      "text/html": [
       "<div>\n",
       "<table border=\"1\" class=\"dataframe\">\n",
       "  <thead>\n",
       "    <tr style=\"text-align: right;\">\n",
       "      <th></th>\n",
       "      <th>DESTINATION</th>\n",
       "      <th>MINUTES USED</th>\n",
       "      <th>State</th>\n",
       "      <th>City</th>\n",
       "    </tr>\n",
       "  </thead>\n",
       "  <tbody>\n",
       "    <tr>\n",
       "      <th>0</th>\n",
       "      <td>ARLINGTON,TX</td>\n",
       "      <td>5</td>\n",
       "      <td>TX</td>\n",
       "      <td>ARLINGTON</td>\n",
       "    </tr>\n",
       "    <tr>\n",
       "      <th>1</th>\n",
       "      <td>BEAUMONT,TX</td>\n",
       "      <td>66</td>\n",
       "      <td>TX</td>\n",
       "      <td>BEAUMONT</td>\n",
       "    </tr>\n",
       "    <tr>\n",
       "      <th>2</th>\n",
       "      <td>CLARENCE,NY</td>\n",
       "      <td>3</td>\n",
       "      <td>NY</td>\n",
       "      <td>CLARENCE</td>\n",
       "    </tr>\n",
       "    <tr>\n",
       "      <th>3</th>\n",
       "      <td>DALLAS,TX</td>\n",
       "      <td>1</td>\n",
       "      <td>TX</td>\n",
       "      <td>DALLAS</td>\n",
       "    </tr>\n",
       "    <tr>\n",
       "      <th>4</th>\n",
       "      <td>EDEN PRAIR,MN</td>\n",
       "      <td>1</td>\n",
       "      <td>MN</td>\n",
       "      <td>EDEN PRAIR</td>\n",
       "    </tr>\n",
       "  </tbody>\n",
       "</table>\n",
       "</div>"
      ],
      "text/plain": [
       "     DESTINATION  MINUTES USED State        City\n",
       "0   ARLINGTON,TX             5    TX   ARLINGTON\n",
       "1    BEAUMONT,TX            66    TX    BEAUMONT\n",
       "2    CLARENCE,NY             3    NY    CLARENCE\n",
       "3      DALLAS,TX             1    TX      DALLAS\n",
       "4  EDEN PRAIR,MN             1    MN  EDEN PRAIR"
      ]
     },
     "execution_count": 8,
     "metadata": {},
     "output_type": "execute_result"
    }
   ],
   "source": [
    "outg = inout_group.loc[inout_group['DESTINATION'].str.strip() != 'Incoming']\n",
    "outg\n",
    "\n",
    "outg.loc[outg['DESTINATION'].str.contains(','), 'State'] = outg['DESTINATION'].str.split(',').str.get(1)\n",
    "outg.loc[outg['DESTINATION'].str.contains(','), 'City'] = outg['DESTINATION'].str.split(',').str.get(0)\n",
    "outg.head()\n",
    "\n"
   ]
  },
  {
   "cell_type": "code",
   "execution_count": 9,
   "metadata": {
    "collapsed": false
   },
   "outputs": [
    {
     "data": {
      "text/plain": [
       "DESTINATION     0\n",
       "MINUTES USED    0\n",
       "State           0\n",
       "City            0\n",
       "dtype: int64"
      ]
     },
     "execution_count": 9,
     "metadata": {},
     "output_type": "execute_result"
    }
   ],
   "source": [
    "# Check for null\n",
    "outg.isnull().sum()"
   ]
  },
  {
   "cell_type": "markdown",
   "metadata": {},
   "source": [
    "Get all unique end points for the call. \n",
    "The list shows all the unique details for all call logs"
   ]
  },
  {
   "cell_type": "code",
   "execution_count": 10,
   "metadata": {
    "collapsed": false
   },
   "outputs": [
    {
     "name": "stdout",
     "output_type": "stream",
     "text": [
      "1\n",
      "2\n",
      "3\n",
      "4\n",
      "5\n",
      "6\n",
      "7\n",
      "8\n",
      "9\n",
      "10\n",
      "11\n"
     ]
    }
   ],
   "source": [
    "from pygeocoder import Geocoder\n",
    "import time\n",
    "countCity = 0\n",
    "locs = []\n",
    "for addr in outg['City']:\n",
    "    countCity += 1\n",
    "    if(countCity % 10 == 0):\n",
    "        time.sleep(1)\n",
    "    locs.append(Geocoder.geocode(addr))\n",
    "    print(countCity)\n",
    "\n",
    "geo_info = pd.DataFrame(\n",
    "    [ (addr.city, addr.latitude, addr.longitude) for addr in locs ],\n",
    "    columns=['city','latitude', 'longitude'])\n"
   ]
  },
  {
   "cell_type": "code",
   "execution_count": 13,
   "metadata": {
    "collapsed": false
   },
   "outputs": [
    {
     "data": {
      "text/html": [
       "<div>\n",
       "<table border=\"1\" class=\"dataframe\">\n",
       "  <thead>\n",
       "    <tr style=\"text-align: right;\">\n",
       "      <th></th>\n",
       "      <th>city</th>\n",
       "      <th>latitude</th>\n",
       "      <th>longitude</th>\n",
       "    </tr>\n",
       "  </thead>\n",
       "  <tbody>\n",
       "    <tr>\n",
       "      <th>0</th>\n",
       "      <td>ARLINGTON</td>\n",
       "      <td>38.879970</td>\n",
       "      <td>-77.106770</td>\n",
       "    </tr>\n",
       "    <tr>\n",
       "      <th>1</th>\n",
       "      <td>BEAUMONT</td>\n",
       "      <td>30.080174</td>\n",
       "      <td>-94.126556</td>\n",
       "    </tr>\n",
       "    <tr>\n",
       "      <th>2</th>\n",
       "      <td>CLARENCE</td>\n",
       "      <td>42.982216</td>\n",
       "      <td>-78.577081</td>\n",
       "    </tr>\n",
       "    <tr>\n",
       "      <th>3</th>\n",
       "      <td>DALLAS</td>\n",
       "      <td>32.776664</td>\n",
       "      <td>-96.796988</td>\n",
       "    </tr>\n",
       "    <tr>\n",
       "      <th>4</th>\n",
       "      <td>EDEN PRAIRIE</td>\n",
       "      <td>44.854686</td>\n",
       "      <td>-93.470786</td>\n",
       "    </tr>\n",
       "    <tr>\n",
       "      <th>5</th>\n",
       "      <td>FALLS CHURCH</td>\n",
       "      <td>38.882334</td>\n",
       "      <td>-77.171091</td>\n",
       "    </tr>\n",
       "    <tr>\n",
       "      <th>6</th>\n",
       "      <td>FRISCO</td>\n",
       "      <td>33.150674</td>\n",
       "      <td>-96.823612</td>\n",
       "    </tr>\n",
       "    <tr>\n",
       "      <th>7</th>\n",
       "      <td>GRAND PRAIRIE</td>\n",
       "      <td>32.745964</td>\n",
       "      <td>-96.997785</td>\n",
       "    </tr>\n",
       "    <tr>\n",
       "      <th>8</th>\n",
       "      <td>TEMECULA</td>\n",
       "      <td>33.589814</td>\n",
       "      <td>-117.031666</td>\n",
       "    </tr>\n",
       "    <tr>\n",
       "      <th>9</th>\n",
       "      <td>MCKINNEY</td>\n",
       "      <td>33.197246</td>\n",
       "      <td>-96.639782</td>\n",
       "    </tr>\n",
       "    <tr>\n",
       "      <th>10</th>\n",
       "      <td>SYRACUSE</td>\n",
       "      <td>43.048122</td>\n",
       "      <td>-76.147424</td>\n",
       "    </tr>\n",
       "  </tbody>\n",
       "</table>\n",
       "</div>"
      ],
      "text/plain": [
       "             city   latitude   longitude\n",
       "0       ARLINGTON  38.879970  -77.106770\n",
       "1        BEAUMONT  30.080174  -94.126556\n",
       "2        CLARENCE  42.982216  -78.577081\n",
       "3          DALLAS  32.776664  -96.796988\n",
       "4    EDEN PRAIRIE  44.854686  -93.470786\n",
       "5    FALLS CHURCH  38.882334  -77.171091\n",
       "6          FRISCO  33.150674  -96.823612\n",
       "7   GRAND PRAIRIE  32.745964  -96.997785\n",
       "8        TEMECULA  33.589814 -117.031666\n",
       "9        MCKINNEY  33.197246  -96.639782\n",
       "10       SYRACUSE  43.048122  -76.147424"
      ]
     },
     "execution_count": 13,
     "metadata": {},
     "output_type": "execute_result"
    }
   ],
   "source": [
    "geo_info['city'] = map(lambda x: str(x).upper(), geo_info['city'])\n",
    "geo_info"
   ]
  },
  {
   "cell_type": "markdown",
   "metadata": {},
   "source": [
    "Merge the data"
   ]
  },
  {
   "cell_type": "code",
   "execution_count": 12,
   "metadata": {
    "collapsed": false
   },
   "outputs": [
    {
     "data": {
      "text/html": [
       "<div>\n",
       "<table border=\"1\" class=\"dataframe\">\n",
       "  <thead>\n",
       "    <tr style=\"text-align: right;\">\n",
       "      <th></th>\n",
       "      <th>DESTINATION</th>\n",
       "      <th>MINUTES USED</th>\n",
       "      <th>State</th>\n",
       "      <th>City</th>\n",
       "      <th>city</th>\n",
       "      <th>latitude</th>\n",
       "      <th>longitude</th>\n",
       "    </tr>\n",
       "  </thead>\n",
       "  <tbody>\n",
       "    <tr>\n",
       "      <th>0</th>\n",
       "      <td>Incoming,</td>\n",
       "      <td>112</td>\n",
       "      <td></td>\n",
       "      <td>Incoming</td>\n",
       "      <td>TEMECULA</td>\n",
       "      <td>33.589814</td>\n",
       "      <td>-117.031666</td>\n",
       "    </tr>\n",
       "    <tr>\n",
       "      <th>1</th>\n",
       "      <td>BEAUMONT,TX</td>\n",
       "      <td>66</td>\n",
       "      <td>TX</td>\n",
       "      <td>BEAUMONT</td>\n",
       "      <td>BEAUMONT</td>\n",
       "      <td>30.080174</td>\n",
       "      <td>-94.126556</td>\n",
       "    </tr>\n",
       "    <tr>\n",
       "      <th>2</th>\n",
       "      <td>FRISCO,TX</td>\n",
       "      <td>63</td>\n",
       "      <td>TX</td>\n",
       "      <td>FRISCO</td>\n",
       "      <td>FRISCO</td>\n",
       "      <td>33.150674</td>\n",
       "      <td>-96.823612</td>\n",
       "    </tr>\n",
       "    <tr>\n",
       "      <th>3</th>\n",
       "      <td>GRAND PRAR,TX</td>\n",
       "      <td>38</td>\n",
       "      <td>TX</td>\n",
       "      <td>GRAND PRAR</td>\n",
       "      <td>GRAND PRAIRIE</td>\n",
       "      <td>32.745964</td>\n",
       "      <td>-96.997785</td>\n",
       "    </tr>\n",
       "    <tr>\n",
       "      <th>4</th>\n",
       "      <td>ARLINGTON,TX</td>\n",
       "      <td>5</td>\n",
       "      <td>TX</td>\n",
       "      <td>ARLINGTON</td>\n",
       "      <td>ARLINGTON</td>\n",
       "      <td>38.879970</td>\n",
       "      <td>-77.106770</td>\n",
       "    </tr>\n",
       "    <tr>\n",
       "      <th>5</th>\n",
       "      <td>MCKINNEY,TX</td>\n",
       "      <td>5</td>\n",
       "      <td>TX</td>\n",
       "      <td>MCKINNEY</td>\n",
       "      <td>MCKINNEY</td>\n",
       "      <td>33.197246</td>\n",
       "      <td>-96.639782</td>\n",
       "    </tr>\n",
       "    <tr>\n",
       "      <th>6</th>\n",
       "      <td>SYRACUSE,NY</td>\n",
       "      <td>4</td>\n",
       "      <td>NY</td>\n",
       "      <td>SYRACUSE</td>\n",
       "      <td>SYRACUSE</td>\n",
       "      <td>43.048122</td>\n",
       "      <td>-76.147424</td>\n",
       "    </tr>\n",
       "    <tr>\n",
       "      <th>7</th>\n",
       "      <td>CLARENCE,NY</td>\n",
       "      <td>3</td>\n",
       "      <td>NY</td>\n",
       "      <td>CLARENCE</td>\n",
       "      <td>CLARENCE</td>\n",
       "      <td>42.982216</td>\n",
       "      <td>-78.577081</td>\n",
       "    </tr>\n",
       "    <tr>\n",
       "      <th>8</th>\n",
       "      <td>FLS CHURCH,VA</td>\n",
       "      <td>3</td>\n",
       "      <td>VA</td>\n",
       "      <td>FLS CHURCH</td>\n",
       "      <td>FALLS CHURCH</td>\n",
       "      <td>38.882334</td>\n",
       "      <td>-77.171091</td>\n",
       "    </tr>\n",
       "    <tr>\n",
       "      <th>9</th>\n",
       "      <td>DALLAS,TX</td>\n",
       "      <td>1</td>\n",
       "      <td>TX</td>\n",
       "      <td>DALLAS</td>\n",
       "      <td>DALLAS</td>\n",
       "      <td>32.776664</td>\n",
       "      <td>-96.796988</td>\n",
       "    </tr>\n",
       "    <tr>\n",
       "      <th>10</th>\n",
       "      <td>EDEN PRAIR,MN</td>\n",
       "      <td>1</td>\n",
       "      <td>MN</td>\n",
       "      <td>EDEN PRAIR</td>\n",
       "      <td>EDEN PRAIRIE</td>\n",
       "      <td>44.854686</td>\n",
       "      <td>-93.470786</td>\n",
       "    </tr>\n",
       "  </tbody>\n",
       "</table>\n",
       "</div>"
      ],
      "text/plain": [
       "      DESTINATION  MINUTES USED State        City           city   latitude  \\\n",
       "0       Incoming,           112          Incoming       TEMECULA  33.589814   \n",
       "1     BEAUMONT,TX            66    TX    BEAUMONT       BEAUMONT  30.080174   \n",
       "2       FRISCO,TX            63    TX      FRISCO         FRISCO  33.150674   \n",
       "3   GRAND PRAR,TX            38    TX  GRAND PRAR  GRAND PRAIRIE  32.745964   \n",
       "4    ARLINGTON,TX             5    TX   ARLINGTON      ARLINGTON  38.879970   \n",
       "5     MCKINNEY,TX             5    TX    MCKINNEY       MCKINNEY  33.197246   \n",
       "6     SYRACUSE,NY             4    NY    SYRACUSE       SYRACUSE  43.048122   \n",
       "7     CLARENCE,NY             3    NY    CLARENCE       CLARENCE  42.982216   \n",
       "8   FLS CHURCH,VA             3    VA  FLS CHURCH   FALLS CHURCH  38.882334   \n",
       "9       DALLAS,TX             1    TX      DALLAS         DALLAS  32.776664   \n",
       "10  EDEN PRAIR,MN             1    MN  EDEN PRAIR   EDEN PRAIRIE  44.854686   \n",
       "\n",
       "     longitude  \n",
       "0  -117.031666  \n",
       "1   -94.126556  \n",
       "2   -96.823612  \n",
       "3   -96.997785  \n",
       "4   -77.106770  \n",
       "5   -96.639782  \n",
       "6   -76.147424  \n",
       "7   -78.577081  \n",
       "8   -77.171091  \n",
       "9   -96.796988  \n",
       "10  -93.470786  "
      ]
     },
     "execution_count": 12,
     "metadata": {},
     "output_type": "execute_result"
    }
   ],
   "source": [
    "outg = outg.reset_index(drop=True)\n",
    "result = pd.concat([outg, geo_info], axis=1).sort_values(by='MINUTES USED', ascending=False).reset_index(drop=True)\n",
    "result\n",
    "\n",
    "#result = pd.merge(outg, geo_info, how='left',left_on=['City'], right_on= ['city'])\n",
    "#result"
   ]
  },
  {
   "cell_type": "code",
   "execution_count": 14,
   "metadata": {
    "collapsed": false
   },
   "outputs": [
    {
     "data": {
      "text/html": [
       "<iframe id=\"igraph\" scrolling=\"no\" style=\"border:none;\" seamless=\"seamless\" src=\"https://plot.ly/~suyashshetty/2.embed\" height=\"525px\" width=\"100%\"></iframe>"
      ],
      "text/plain": [
       "<plotly.tools.PlotlyDisplay object>"
      ]
     },
     "execution_count": 14,
     "metadata": {},
     "output_type": "execute_result"
    }
   ],
   "source": [
    "import plotly.plotly as py\n",
    "py.sign_in('suyashshetty','KxER1TQoDYre6ZhOZZGa')\n",
    "\n",
    "scl = [ [0,\"rgb(5, 10, 172)\"],[0.35,\"rgb(40, 60, 190)\"],[0.5,\"rgb(70, 100, 245)\"],\\\n",
    "    [0.6,\"rgb(90, 120, 245)\"],[0.7,\"rgb(106, 137, 247)\"],[1,\"rgb(220, 220, 220)\"] ]\n",
    "\n",
    "result['text'] = result['City'] + ', ' + result['State'] + '' + ' -> Calls: ' + result['MINUTES USED'].astype(str)\n",
    "\n",
    "data = [ dict(\n",
    "        type = 'scattergeo',\n",
    "        locationmode = 'USA-states',\n",
    "        lon = result['longitude'],\n",
    "        lat = result['latitude'],\n",
    "        text = result['text'],\n",
    "        mode = 'markers',\n",
    "        marker = dict( \n",
    "            size = 8, \n",
    "            opacity = 0.8,\n",
    "            reversescale = True,\n",
    "            autocolorscale = False,\n",
    "            symbol = 'circle',\n",
    "            line = dict(\n",
    "                width=1,\n",
    "                color='rgba(102, 102, 102)'\n",
    "            ),\n",
    "            colorscale = scl,\n",
    "            cmin = 0,\n",
    "            color = result['MINUTES USED'],\n",
    "            cmax = result['MINUTES USED'].max(),\n",
    "            colorbar=dict(\n",
    "                title=\"Outgoing Calls - September 2016\"\n",
    "            )\n",
    "        ))]\n",
    "\n",
    "layout = dict(\n",
    "        title = 'Outgoing Call Distribution',\n",
    "        colorbar = True,   \n",
    "        geo = dict(\n",
    "            scope='usa',\n",
    "            projection=dict( type='albers usa' ),\n",
    "            showland = True,\n",
    "            landcolor = \"rgb(250, 250, 250)\",\n",
    "            subunitcolor = \"rgb(217, 217, 217)\",\n",
    "            countrycolor = \"rgb(217, 217, 217)\",\n",
    "            countrywidth = 0.5,\n",
    "            subunitwidth = 0.5        \n",
    "        ),\n",
    "    )\n",
    "\n",
    "fig = dict( data=data, layout=layout )\n",
    "py.iplot( fig, validate=False, filename='September - 2016' )"
   ]
  },
  {
   "cell_type": "code",
   "execution_count": 16,
   "metadata": {
    "collapsed": false
   },
   "outputs": [
    {
     "name": "stdout",
     "output_type": "stream",
     "text": [
      "0 - 3\n",
      "4 - 8\n",
      "9 - 10\n"
     ]
    },
    {
     "data": {
      "text/html": [
       "<iframe id=\"igraph\" scrolling=\"no\" style=\"border:none;\" seamless=\"seamless\" src=\"https://plot.ly/~suyashshetty/6.embed\" height=\"525px\" width=\"100%\"></iframe>"
      ],
      "text/plain": [
       "<plotly.tools.PlotlyDisplay object>"
      ]
     },
     "execution_count": 16,
     "metadata": {},
     "output_type": "execute_result"
    }
   ],
   "source": [
    "limits = [(0,3),(4,8),(9,13),(13,16),(17,20)]\n",
    "colors = [\"rgb(0,116,217)\",\"rgb(255,65,54)\",\"rgb(133,20,75)\",\"rgb(255,133,27)\",\"lightgrey\"]\n",
    "cities = []\n",
    "scale = 1\n",
    "length = len(result.index)\n",
    "\n",
    "for i in range(len(limits)):\n",
    "    if limits[i][0] <= length:\n",
    "        lim = limits[i]\n",
    "        upperlim = lim[1] if lim[1]<length else length-1\n",
    "        print(str(lim[0]) + \" - \" + str(upperlim) )\n",
    "        df_sub = result[lim[0]:upperlim]\n",
    "        city = dict(\n",
    "               type = 'scattergeo',\n",
    "               locationmode = 'USA-states',\n",
    "               lon = df_sub['longitude'],\n",
    "               lat = df_sub['latitude'],\n",
    "               text = df_sub['text'],\n",
    "               marker = dict(\n",
    "                   size = (df_sub['MINUTES USED'] + 1) * 20,\n",
    "                   color = colors[i],\n",
    "                   line = dict(width=0.5, color='rgb(40,40,40)'),\n",
    "                   sizemode = 'area'\n",
    "         ),\n",
    "        name = '{0} - {1}'.format(result['MINUTES USED'].iloc[upperlim],result['MINUTES USED'].iloc[lim[0]]) )\n",
    "        cities.append(city)\n",
    "\n",
    "        layout = dict(\n",
    "            title = 'Nov 2016 Call Distribution <br>(Click legend to toggle traces)',\n",
    "            showlegend = True,\n",
    "            geo = dict(\n",
    "                scope='usa',\n",
    "                projection=dict( type='albers usa' ),\n",
    "                showland = True,\n",
    "                landcolor = 'rgb(217, 217, 217)',\n",
    "                subunitwidth=1,\n",
    "                countrywidth=1,\n",
    "                subunitcolor=\"rgb(255, 255, 255)\",\n",
    "                countrycolor=\"rgb(255, 255, 255)\"\n",
    "            ),\n",
    "        )\n",
    "\n",
    "fig = dict( data=cities, layout=layout )\n",
    "py.iplot( fig, validate=False, filename='d3-bubble-map-outgoing-calls-nov-2016' )"
   ]
  },
  {
   "cell_type": "code",
   "execution_count": 17,
   "metadata": {
    "collapsed": false
   },
   "outputs": [
    {
     "data": {
      "text/plain": [
       "<matplotlib.axes._subplots.AxesSubplot at 0xc9c6208>"
      ]
     },
     "execution_count": 17,
     "metadata": {},
     "output_type": "execute_result"
    },
    {
     "data": {
      "image/png": "[encoded data removed]",
      "text/plain": [
       "<matplotlib.figure.Figure at 0xcae1438>"
      ]
     },
     "metadata": {},
     "output_type": "display_data"
    }
   ],
   "source": [
    "import matplotlib.pyplot as plt\n",
    "result.plot(x='City', y='MINUTES USED', kind='bar', layout=[('MINUTES USED')])"
   ]
  },
  {
   "cell_type": "code",
   "execution_count": 18,
   "metadata": {
    "collapsed": false
   },
   "outputs": [
    {
     "data": {
      "text/plain": [
       "<matplotlib.axes._subplots.AxesSubplot at 0xcb25780>"
      ]
     },
     "execution_count": 18,
     "metadata": {},
     "output_type": "execute_result"
    },
    {
     "data": {
      "image/png": "[encoded data removed]",
      "text/plain": [
       "<matplotlib.figure.Figure at 0xc8ba4a8>"
      ]
     },
     "metadata": {},
     "output_type": "display_data"
    }
   ],
   "source": [
    "result.plot(x='City', y='MINUTES USED', kind='barh')"
   ]
  },
  {
   "cell_type": "markdown",
   "metadata": {
    "collapsed": true
   },
   "source": [
    "# Top 10 Outgoing"
   ]
  },
  {
   "cell_type": "code",
   "execution_count": 19,
   "metadata": {
    "collapsed": false
   },
   "outputs": [
    {
     "data": {
      "text/html": [
       "<div>\n",
       "<table border=\"1\" class=\"dataframe\">\n",
       "  <thead>\n",
       "    <tr style=\"text-align: right;\">\n",
       "      <th></th>\n",
       "      <th>index</th>\n",
       "      <th>PHONE</th>\n",
       "      <th>MINUTES USED</th>\n",
       "    </tr>\n",
       "  </thead>\n",
       "  <tbody>\n",
       "    <tr>\n",
       "      <th>0</th>\n",
       "      <td>5</td>\n",
       "      <td>409-203-9621</td>\n",
       "      <td>68</td>\n",
       "    </tr>\n",
       "    <tr>\n",
       "      <th>1</th>\n",
       "      <td>11</td>\n",
       "      <td>469-664-3506</td>\n",
       "      <td>47</td>\n",
       "    </tr>\n",
       "    <tr>\n",
       "      <th>2</th>\n",
       "      <td>3</td>\n",
       "      <td>214-909-1846</td>\n",
       "      <td>41</td>\n",
       "    </tr>\n",
       "    <tr>\n",
       "      <th>3</th>\n",
       "      <td>18</td>\n",
       "      <td>469-996-9556</td>\n",
       "      <td>23</td>\n",
       "    </tr>\n",
       "    <tr>\n",
       "      <th>4</th>\n",
       "      <td>16</td>\n",
       "      <td>469-909-9993</td>\n",
       "      <td>21</td>\n",
       "    </tr>\n",
       "    <tr>\n",
       "      <th>5</th>\n",
       "      <td>9</td>\n",
       "      <td>469-601-0682</td>\n",
       "      <td>14</td>\n",
       "    </tr>\n",
       "    <tr>\n",
       "      <th>6</th>\n",
       "      <td>19</td>\n",
       "      <td>571-230-7235</td>\n",
       "      <td>10</td>\n",
       "    </tr>\n",
       "    <tr>\n",
       "      <th>7</th>\n",
       "      <td>4</td>\n",
       "      <td>315-807-1313</td>\n",
       "      <td>9</td>\n",
       "    </tr>\n",
       "    <tr>\n",
       "      <th>8</th>\n",
       "      <td>27</td>\n",
       "      <td>972-689-3811</td>\n",
       "      <td>9</td>\n",
       "    </tr>\n",
       "    <tr>\n",
       "      <th>9</th>\n",
       "      <td>25</td>\n",
       "      <td>972-363-5342</td>\n",
       "      <td>7</td>\n",
       "    </tr>\n",
       "  </tbody>\n",
       "</table>\n",
       "</div>"
      ],
      "text/plain": [
       "   index         PHONE  MINUTES USED\n",
       "0      5  409-203-9621            68\n",
       "1     11  469-664-3506            47\n",
       "2      3  214-909-1846            41\n",
       "3     18  469-996-9556            23\n",
       "4     16  469-909-9993            21\n",
       "5      9  469-601-0682            14\n",
       "6     19  571-230-7235            10\n",
       "7      4  315-807-1313             9\n",
       "8     27  972-689-3811             9\n",
       "9     25  972-363-5342             7"
      ]
     },
     "execution_count": 19,
     "metadata": {},
     "output_type": "execute_result"
    }
   ],
   "source": [
    "calls = phoneLog[['PHONE','MINUTES USED', 'DESTINATION']]\n",
    "calls_outgoing = calls.loc[calls['DESTINATION'] != 'Incoming']\n",
    "#calls_filter.loc[calls_filter['DESTINATION'] != 'Incoming'].count()\n",
    "calls_out_grp = pd.DataFrame(calls_outgoing.groupby('PHONE')['MINUTES USED'].sum()).reset_index()\n",
    "Top10_Outgoing = calls_out_grp.sort_values(by='MINUTES USED', ascending=False)[:10].reset_index()\n",
    "Top10_Outgoing"
   ]
  },
  {
   "cell_type": "markdown",
   "metadata": {
    "collapsed": true
   },
   "source": [
    "# Top 10 Incoming"
   ]
  },
  {
   "cell_type": "code",
   "execution_count": 21,
   "metadata": {
    "collapsed": false,
    "scrolled": true
   },
   "outputs": [
    {
     "data": {
      "text/html": [
       "<div>\n",
       "<table border=\"1\" class=\"dataframe\">\n",
       "  <thead>\n",
       "    <tr style=\"text-align: right;\">\n",
       "      <th></th>\n",
       "      <th>index</th>\n",
       "      <th>PHONE</th>\n",
       "      <th>MINUTES USED</th>\n",
       "    </tr>\n",
       "  </thead>\n",
       "  <tbody>\n",
       "    <tr>\n",
       "      <th>0</th>\n",
       "      <td>1</td>\n",
       "      <td>214-909-1846</td>\n",
       "      <td>41</td>\n",
       "    </tr>\n",
       "    <tr>\n",
       "      <th>1</th>\n",
       "      <td>7</td>\n",
       "      <td>469-601-0682</td>\n",
       "      <td>13</td>\n",
       "    </tr>\n",
       "    <tr>\n",
       "      <th>2</th>\n",
       "      <td>13</td>\n",
       "      <td>469-996-9556</td>\n",
       "      <td>7</td>\n",
       "    </tr>\n",
       "    <tr>\n",
       "      <th>3</th>\n",
       "      <td>14</td>\n",
       "      <td>571-230-7235</td>\n",
       "      <td>7</td>\n",
       "    </tr>\n",
       "    <tr>\n",
       "      <th>4</th>\n",
       "      <td>8</td>\n",
       "      <td>469-664-3506</td>\n",
       "      <td>6</td>\n",
       "    </tr>\n",
       "    <tr>\n",
       "      <th>5</th>\n",
       "      <td>2</td>\n",
       "      <td>315-807-1313</td>\n",
       "      <td>5</td>\n",
       "    </tr>\n",
       "    <tr>\n",
       "      <th>6</th>\n",
       "      <td>19</td>\n",
       "      <td>972-730-0033</td>\n",
       "      <td>5</td>\n",
       "    </tr>\n",
       "    <tr>\n",
       "      <th>7</th>\n",
       "      <td>18</td>\n",
       "      <td>972-689-3811</td>\n",
       "      <td>5</td>\n",
       "    </tr>\n",
       "    <tr>\n",
       "      <th>8</th>\n",
       "      <td>10</td>\n",
       "      <td>469-767-0925</td>\n",
       "      <td>3</td>\n",
       "    </tr>\n",
       "    <tr>\n",
       "      <th>9</th>\n",
       "      <td>15</td>\n",
       "      <td>682-716-8478</td>\n",
       "      <td>3</td>\n",
       "    </tr>\n",
       "  </tbody>\n",
       "</table>\n",
       "</div>"
      ],
      "text/plain": [
       "   index         PHONE  MINUTES USED\n",
       "0      1  214-909-1846            41\n",
       "1      7  469-601-0682            13\n",
       "2     13  469-996-9556             7\n",
       "3     14  571-230-7235             7\n",
       "4      8  469-664-3506             6\n",
       "5      2  315-807-1313             5\n",
       "6     19  972-730-0033             5\n",
       "7     18  972-689-3811             5\n",
       "8     10  469-767-0925             3\n",
       "9     15  682-716-8478             3"
      ]
     },
     "execution_count": 21,
     "metadata": {},
     "output_type": "execute_result"
    }
   ],
   "source": [
    "calls = phoneLog[['PHONE','MINUTES USED', 'DESTINATION']]\n",
    "calls_incoming = calls.loc[calls['DESTINATION'] == 'Incoming,']\n",
    "#calls_filter.loc[calls_filter['DESTINATION'] != 'Incoming'].count()\n",
    "calls_in_grp = pd.DataFrame(calls_incoming.groupby('PHONE')['MINUTES USED'].sum()).reset_index()\n",
    "Top10_Incoming = calls_in_grp.sort_values(by='MINUTES USED', ascending=False)[:10].reset_index()\n",
    "Top10_Incoming"
   ]
  },
  {
   "cell_type": "markdown",
   "metadata": {},
   "source": [
    "# Common numbers in Top 10 call list"
   ]
  },
  {
   "cell_type": "code",
   "execution_count": 22,
   "metadata": {
    "collapsed": false
   },
   "outputs": [
    {
     "data": {
      "text/plain": [
       "0    469-601-0682\n",
       "1    315-807-1313\n",
       "2    469-664-3506\n",
       "3    571-230-7235\n",
       "4    469-996-9556\n",
       "5    972-689-3811\n",
       "6    214-909-1846\n",
       "dtype: object"
      ]
     },
     "execution_count": 22,
     "metadata": {},
     "output_type": "execute_result"
    }
   ],
   "source": [
    "pd.Series(list(set(Top10_Outgoing['PHONE']).intersection(set(Top10_Incoming['PHONE']))))"
   ]
  },
  {
   "cell_type": "code",
   "execution_count": null,
   "metadata": {
    "collapsed": true
   },
   "outputs": [],
   "source": []
  }
 ],
 "metadata": {
  "anaconda-cloud": {},
  "kernelspec": {
   "display_name": "Python [default]",
   "language": "python",
   "name": "python2"
  },
  "language_info": {
   "codemirror_mode": {
    "name": "ipython",
    "version": 2
   },
   "file_extension": ".py",
   "mimetype": "text/x-python",
   "name": "python",
   "nbconvert_exporter": "python",
   "pygments_lexer": "ipython2",
   "version": "2.7.12"
  }
 },
 "nbformat": 4,
 "nbformat_minor": 1
}
