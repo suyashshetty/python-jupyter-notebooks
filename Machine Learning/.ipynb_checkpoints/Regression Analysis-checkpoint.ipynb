{
 "cells": [
  {
   "cell_type": "markdown",
   "metadata": {},
   "source": [
    "## Importing Libraries\n",
    "\n",
    "### Python libraries contain functions packaged into a bundle serving a unique purpose\n",
    "\n",
    "We shall be using libraries numpy pandas matplpotlib and seaborn for our analysis"
   ]
  },
  {
   "cell_type": "code",
   "execution_count": 1,
   "metadata": {
    "collapsed": true
   },
   "outputs": [],
   "source": [
    "import numpy as np\n",
    "import pandas as pd\n",
    "import matplotlib.pyplot as plt\n",
    "import seaborn as sns"
   ]
  },
  {
   "cell_type": "markdown",
   "metadata": {},
   "source": [
    "## Loading dataset into dataframe\n",
    "\n",
    "### Pandas is the library that is most popular and regularly used to load and analyse data\n",
    "\n",
    "Let us read in a csv file into a dataframe object women_stem. The pandas function read_csv reads the csv, with default delimiter as comma (,)."
   ]
  },
  {
   "cell_type": "code",
   "execution_count": 2,
   "metadata": {
    "collapsed": true
   },
   "outputs": [],
   "source": [
    "women_stem = pd.read_csv('./dataset/women-stem.csv', na_values='0', sep=',', low_memory=False)"
   ]
  },
  {
   "cell_type": "markdown",
   "metadata": {},
   "source": [
    "Let us see the columns which the dataset contains"
   ]
  },
  {
   "cell_type": "code",
   "execution_count": 3,
   "metadata": {},
   "outputs": [
    {
     "data": {
      "text/plain": [
       "Index(['Rank', 'Major_code', 'Major', 'Major_category', 'Total', 'Men',\n",
       "       'Women', 'ShareWomen', 'Median'],\n",
       "      dtype='object')"
      ]
     },
     "execution_count": 3,
     "metadata": {},
     "output_type": "execute_result"
    }
   ],
   "source": [
    "women_stem.columns"
   ]
  },
  {
   "cell_type": "markdown",
   "metadata": {},
   "source": [
    "### Viewing snapshot of the data\n",
    "\n",
    "The head() method is useful to view few top rows in the dataset "
   ]
  },
  {
   "cell_type": "code",
   "execution_count": 4,
   "metadata": {},
   "outputs": [
    {
     "data": {
      "text/html": [
       "<div>\n",
       "<style>\n",
       "    .dataframe thead tr:only-child th {\n",
       "        text-align: right;\n",
       "    }\n",
       "\n",
       "    .dataframe thead th {\n",
       "        text-align: left;\n",
       "    }\n",
       "\n",
       "    .dataframe tbody tr th {\n",
       "        vertical-align: top;\n",
       "    }\n",
       "</style>\n",
       "<table border=\"1\" class=\"dataframe\">\n",
       "  <thead>\n",
       "    <tr style=\"text-align: right;\">\n",
       "      <th></th>\n",
       "      <th>Rank</th>\n",
       "      <th>Major_code</th>\n",
       "      <th>Major</th>\n",
       "      <th>Major_category</th>\n",
       "      <th>Total</th>\n",
       "      <th>Men</th>\n",
       "      <th>Women</th>\n",
       "      <th>ShareWomen</th>\n",
       "      <th>Median</th>\n",
       "    </tr>\n",
       "  </thead>\n",
       "  <tbody>\n",
       "    <tr>\n",
       "      <th>0</th>\n",
       "      <td>1</td>\n",
       "      <td>2419</td>\n",
       "      <td>PETROLEUM ENGINEERING</td>\n",
       "      <td>Engineering</td>\n",
       "      <td>2339</td>\n",
       "      <td>2057</td>\n",
       "      <td>282</td>\n",
       "      <td>0.120564</td>\n",
       "      <td>110000</td>\n",
       "    </tr>\n",
       "    <tr>\n",
       "      <th>1</th>\n",
       "      <td>2</td>\n",
       "      <td>2416</td>\n",
       "      <td>MINING AND MINERAL ENGINEERING</td>\n",
       "      <td>Engineering</td>\n",
       "      <td>756</td>\n",
       "      <td>679</td>\n",
       "      <td>77</td>\n",
       "      <td>0.101852</td>\n",
       "      <td>75000</td>\n",
       "    </tr>\n",
       "    <tr>\n",
       "      <th>2</th>\n",
       "      <td>3</td>\n",
       "      <td>2415</td>\n",
       "      <td>METALLURGICAL ENGINEERING</td>\n",
       "      <td>Engineering</td>\n",
       "      <td>856</td>\n",
       "      <td>725</td>\n",
       "      <td>131</td>\n",
       "      <td>0.153037</td>\n",
       "      <td>73000</td>\n",
       "    </tr>\n",
       "    <tr>\n",
       "      <th>3</th>\n",
       "      <td>4</td>\n",
       "      <td>2417</td>\n",
       "      <td>NAVAL ARCHITECTURE AND MARINE ENGINEERING</td>\n",
       "      <td>Engineering</td>\n",
       "      <td>1258</td>\n",
       "      <td>1123</td>\n",
       "      <td>135</td>\n",
       "      <td>0.107313</td>\n",
       "      <td>70000</td>\n",
       "    </tr>\n",
       "    <tr>\n",
       "      <th>4</th>\n",
       "      <td>5</td>\n",
       "      <td>2418</td>\n",
       "      <td>NUCLEAR ENGINEERING</td>\n",
       "      <td>Engineering</td>\n",
       "      <td>2573</td>\n",
       "      <td>2200</td>\n",
       "      <td>373</td>\n",
       "      <td>0.144967</td>\n",
       "      <td>65000</td>\n",
       "    </tr>\n",
       "  </tbody>\n",
       "</table>\n",
       "</div>"
      ],
      "text/plain": [
       "   Rank  Major_code                                      Major Major_category  \\\n",
       "0     1        2419                      PETROLEUM ENGINEERING    Engineering   \n",
       "1     2        2416             MINING AND MINERAL ENGINEERING    Engineering   \n",
       "2     3        2415                  METALLURGICAL ENGINEERING    Engineering   \n",
       "3     4        2417  NAVAL ARCHITECTURE AND MARINE ENGINEERING    Engineering   \n",
       "4     5        2418                        NUCLEAR ENGINEERING    Engineering   \n",
       "\n",
       "   Total   Men  Women  ShareWomen  Median  \n",
       "0   2339  2057    282    0.120564  110000  \n",
       "1    756   679     77    0.101852   75000  \n",
       "2    856   725    131    0.153037   73000  \n",
       "3   1258  1123    135    0.107313   70000  \n",
       "4   2573  2200    373    0.144967   65000  "
      ]
     },
     "execution_count": 4,
     "metadata": {},
     "output_type": "execute_result"
    }
   ],
   "source": [
    "women_stem.head(5)"
   ]
  },
  {
   "cell_type": "markdown",
   "metadata": {},
   "source": [
    "From the above snapshot, we can derive that ShareWomen is ratio of Women to Men i.e. (Number of Women)/(Number of Men + Number of Women)."
   ]
  },
  {
   "cell_type": "markdown",
   "metadata": {},
   "source": [
    "## Checking the size of the dataset\n",
    "\n",
    "### We need to gauge the size of the dataset to determine the number of rows and columns in the dataframe\n",
    "\n",
    "The shape attribute of the dataframe outputs number of rows and columns in the dataframe"
   ]
  },
  {
   "cell_type": "code",
   "execution_count": 5,
   "metadata": {},
   "outputs": [
    {
     "data": {
      "text/plain": [
       "(76, 9)"
      ]
     },
     "execution_count": 5,
     "metadata": {},
     "output_type": "execute_result"
    }
   ],
   "source": [
    "women_stem.shape"
   ]
  },
  {
   "cell_type": "markdown",
   "metadata": {},
   "source": [
    "The above data (76, 9) follows the format (number_of_rows, number_of_columns). Hence we can see that the dataset contains 76 rows and 9 columns"
   ]
  },
  {
   "cell_type": "markdown",
   "metadata": {},
   "source": [
    "## Describing the numerical columns in the dataset\n",
    "\n",
    "### The basic statistics of the dataset like mean, standard deviation help to find the insights into the data\n",
    "\n",
    "The describe() method will calcualte the count, mean, standard deviation, minimum, maximum and quartiles (25%, 50% and 75%) for each of the numerical columns in the dataset"
   ]
  },
  {
   "cell_type": "code",
   "execution_count": 6,
   "metadata": {},
   "outputs": [
    {
     "data": {
      "text/html": [
       "<div>\n",
       "<style>\n",
       "    .dataframe thead tr:only-child th {\n",
       "        text-align: right;\n",
       "    }\n",
       "\n",
       "    .dataframe thead th {\n",
       "        text-align: left;\n",
       "    }\n",
       "\n",
       "    .dataframe tbody tr th {\n",
       "        vertical-align: top;\n",
       "    }\n",
       "</style>\n",
       "<table border=\"1\" class=\"dataframe\">\n",
       "  <thead>\n",
       "    <tr style=\"text-align: right;\">\n",
       "      <th></th>\n",
       "      <th>Rank</th>\n",
       "      <th>Major_code</th>\n",
       "      <th>Total</th>\n",
       "      <th>Men</th>\n",
       "      <th>Women</th>\n",
       "      <th>ShareWomen</th>\n",
       "      <th>Median</th>\n",
       "    </tr>\n",
       "  </thead>\n",
       "  <tbody>\n",
       "    <tr>\n",
       "      <th>count</th>\n",
       "      <td>76.000000</td>\n",
       "      <td>76.000000</td>\n",
       "      <td>76.000000</td>\n",
       "      <td>76.000000</td>\n",
       "      <td>76.000000</td>\n",
       "      <td>76.000000</td>\n",
       "      <td>76.000000</td>\n",
       "    </tr>\n",
       "    <tr>\n",
       "      <th>mean</th>\n",
       "      <td>38.500000</td>\n",
       "      <td>3580.026316</td>\n",
       "      <td>25515.289474</td>\n",
       "      <td>12800.763158</td>\n",
       "      <td>12714.526316</td>\n",
       "      <td>0.436929</td>\n",
       "      <td>46118.421053</td>\n",
       "    </tr>\n",
       "    <tr>\n",
       "      <th>std</th>\n",
       "      <td>22.083176</td>\n",
       "      <td>1437.455038</td>\n",
       "      <td>43998.008553</td>\n",
       "      <td>21307.554101</td>\n",
       "      <td>29056.014723</td>\n",
       "      <td>0.232176</td>\n",
       "      <td>13187.223216</td>\n",
       "    </tr>\n",
       "    <tr>\n",
       "      <th>min</th>\n",
       "      <td>1.000000</td>\n",
       "      <td>1301.000000</td>\n",
       "      <td>609.000000</td>\n",
       "      <td>488.000000</td>\n",
       "      <td>77.000000</td>\n",
       "      <td>0.077453</td>\n",
       "      <td>26000.000000</td>\n",
       "    </tr>\n",
       "    <tr>\n",
       "      <th>25%</th>\n",
       "      <td>19.750000</td>\n",
       "      <td>2409.750000</td>\n",
       "      <td>3782.000000</td>\n",
       "      <td>2047.750000</td>\n",
       "      <td>1227.500000</td>\n",
       "      <td>0.247918</td>\n",
       "      <td>36150.000000</td>\n",
       "    </tr>\n",
       "    <tr>\n",
       "      <th>50%</th>\n",
       "      <td>38.500000</td>\n",
       "      <td>3601.500000</td>\n",
       "      <td>11047.500000</td>\n",
       "      <td>4583.000000</td>\n",
       "      <td>5217.500000</td>\n",
       "      <td>0.405868</td>\n",
       "      <td>44350.000000</td>\n",
       "    </tr>\n",
       "    <tr>\n",
       "      <th>75%</th>\n",
       "      <td>57.250000</td>\n",
       "      <td>5002.250000</td>\n",
       "      <td>27509.250000</td>\n",
       "      <td>11686.500000</td>\n",
       "      <td>12463.500000</td>\n",
       "      <td>0.591803</td>\n",
       "      <td>52250.000000</td>\n",
       "    </tr>\n",
       "    <tr>\n",
       "      <th>max</th>\n",
       "      <td>76.000000</td>\n",
       "      <td>6199.000000</td>\n",
       "      <td>280709.000000</td>\n",
       "      <td>111762.000000</td>\n",
       "      <td>187621.000000</td>\n",
       "      <td>0.967998</td>\n",
       "      <td>110000.000000</td>\n",
       "    </tr>\n",
       "  </tbody>\n",
       "</table>\n",
       "</div>"
      ],
      "text/plain": [
       "            Rank   Major_code          Total            Men          Women  \\\n",
       "count  76.000000    76.000000      76.000000      76.000000      76.000000   \n",
       "mean   38.500000  3580.026316   25515.289474   12800.763158   12714.526316   \n",
       "std    22.083176  1437.455038   43998.008553   21307.554101   29056.014723   \n",
       "min     1.000000  1301.000000     609.000000     488.000000      77.000000   \n",
       "25%    19.750000  2409.750000    3782.000000    2047.750000    1227.500000   \n",
       "50%    38.500000  3601.500000   11047.500000    4583.000000    5217.500000   \n",
       "75%    57.250000  5002.250000   27509.250000   11686.500000   12463.500000   \n",
       "max    76.000000  6199.000000  280709.000000  111762.000000  187621.000000   \n",
       "\n",
       "       ShareWomen         Median  \n",
       "count   76.000000      76.000000  \n",
       "mean     0.436929   46118.421053  \n",
       "std      0.232176   13187.223216  \n",
       "min      0.077453   26000.000000  \n",
       "25%      0.247918   36150.000000  \n",
       "50%      0.405868   44350.000000  \n",
       "75%      0.591803   52250.000000  \n",
       "max      0.967998  110000.000000  "
      ]
     },
     "execution_count": 6,
     "metadata": {},
     "output_type": "execute_result"
    }
   ],
   "source": [
    "women_stem.describe()"
   ]
  },
  {
   "cell_type": "markdown",
   "metadata": {},
   "source": [
    "## Checking if the dataset contains null\n",
    "\n",
    "### The data needs to be validated if any of columns contain null or empty values\n",
    "\n",
    "The method isnull() will vlaidate whether data in the cell contains a null. The sum() function will add all the columns having 'True' in them"
   ]
  },
  {
   "cell_type": "code",
   "execution_count": 7,
   "metadata": {},
   "outputs": [
    {
     "data": {
      "text/plain": [
       "Rank              0\n",
       "Major_code        0\n",
       "Major             0\n",
       "Major_category    0\n",
       "Total             0\n",
       "Men               0\n",
       "Women             0\n",
       "ShareWomen        0\n",
       "Median            0\n",
       "dtype: int64"
      ]
     },
     "execution_count": 7,
     "metadata": {},
     "output_type": "execute_result"
    }
   ],
   "source": [
    "women_stem.isnull().sum()"
   ]
  },
  {
   "cell_type": "markdown",
   "metadata": {},
   "source": [
    "As you can see, since the sum is zero, none of the columns in the dataset contain null or missing values"
   ]
  },
  {
   "cell_type": "markdown",
   "metadata": {},
   "source": [
    "## Exploratory Analysis\n",
    "\n",
    "#### Plotting the data in the dataframe in visual format helps get insight into the data\n",
    "\n",
    "We shall plot the ratio of men to women in visual format for each of the major categories"
   ]
  },
  {
   "cell_type": "code",
   "execution_count": 8,
   "metadata": {},
   "outputs": [
    {
     "data": {
      "text/plain": [
       "<matplotlib.text.Text at 0x2557a52d8d0>"
      ]
     },
     "execution_count": 8,
     "metadata": {},
     "output_type": "execute_result"
    },
    {
     "data": {
      "image/png": "[encoded data removed]",
      "text/plain": [
       "<matplotlib.figure.Figure at 0x2557a41b080>"
      ]
     },
     "metadata": {},
     "output_type": "display_data"
    }
   ],
   "source": [
    "%matplotlib inline\n",
    "\n",
    "#Grouping the number of men and women by category of major\n",
    "women_stem_major = women_stem.groupby(['Major_category']).agg({'Men':'sum', 'Women':'sum'})\n",
    "women_stem_major.plot.bar()\n",
    "\n",
    "plt.xlabel('Major Category')\n",
    "plt.ylabel(\"Count\")\n",
    "plt.title(\"Comparison of Men v/s Women in STEM\")"
   ]
  },
  {
   "cell_type": "markdown",
   "metadata": {},
   "source": [
    "## Transformation\n",
    "\n",
    "#### Some of the variables might not seem to have direct relation to the target variable and we need to transform to get into appropriate format\n",
    "\n",
    "On of the transformations is the inverse transformation. We take the inverse of all the values and try to identify if there is correlation with \"ShareWomen\". We shall take the inverse of \"Median\" of the salaries"
   ]
  },
  {
   "cell_type": "code",
   "execution_count": 9,
   "metadata": {
    "collapsed": true
   },
   "outputs": [],
   "source": [
    "women_stem['Median_Inverse'] = 1 / women_stem['Median']"
   ]
  },
  {
   "cell_type": "markdown",
   "metadata": {},
   "source": [
    "## Pairplot\n",
    "\n",
    "### Seaborn library contains a powerful visualiztion to plot relationship between variables (columns)\n",
    "\n",
    "The pairplot will plot pairwise relationships across an entire dataframe (for the numerical columns) and supports a color hue argument (for categorical columns)."
   ]
  },
  {
   "cell_type": "code",
   "execution_count": 10,
   "metadata": {},
   "outputs": [
    {
     "data": {
      "text/plain": [
       "<seaborn.axisgrid.PairGrid at 0x2557a716f60>"
      ]
     },
     "execution_count": 10,
     "metadata": {},
     "output_type": "execute_result"
    },
    {
     "data": {
      "image/png": "[encoded data removed]",
      "text/plain": [
       "<matplotlib.figure.Figure at 0x2557a716f28>"
      ]
     },
     "metadata": {},
     "output_type": "display_data"
    }
   ],
   "source": [
    "sns.pairplot(data=women_stem, hue='Major_category',y_vars='ShareWomen', x_vars=['Rank','Total','Men','Women','Median'], size=4.0)"
   ]
  },
  {
   "cell_type": "markdown",
   "metadata": {},
   "source": [
    "We see from the plots that \n",
    "    1)'Engineering' appears to have higher ranks clustered near the upper ranks\n",
    "    2) Women have higher share in 'Health' major\n",
    "    3) 'Engineering' have higher median of salaries\n"
   ]
  },
  {
   "cell_type": "markdown",
   "metadata": {},
   "source": [
    "## Dummy Variables\n",
    "\n",
    "### We need dummy variables to represent categorical variables as continuous\n",
    "\n",
    "Create dummy variables for all the categorical variables. We would take 'Major_category' and create 5 unique varaibles to represent 5 unique values in the dataset"
   ]
  },
  {
   "cell_type": "code",
   "execution_count": 11,
   "metadata": {
    "collapsed": true
   },
   "outputs": [],
   "source": [
    "women_stem_dummies = pd.get_dummies(women_stem, columns=[\"Major_category\"])"
   ]
  },
  {
   "cell_type": "markdown",
   "metadata": {},
   "source": [
    "Lets check the columns in the new data-set"
   ]
  },
  {
   "cell_type": "code",
   "execution_count": 12,
   "metadata": {},
   "outputs": [
    {
     "data": {
      "text/plain": [
       "Index(['Rank', 'Major_code', 'Major', 'Total', 'Men', 'Women', 'ShareWomen',\n",
       "       'Median', 'Median_Inverse', 'Major_category_Biology & Life Science',\n",
       "       'Major_category_Computers & Mathematics', 'Major_category_Engineering',\n",
       "       'Major_category_Health', 'Major_category_Physical Sciences'],\n",
       "      dtype='object')"
      ]
     },
     "execution_count": 12,
     "metadata": {},
     "output_type": "execute_result"
    }
   ],
   "source": [
    "women_stem_dummies.columns"
   ]
  },
  {
   "cell_type": "markdown",
   "metadata": {},
   "source": [
    "## Partitioning dataset into dependent and independent variables \n",
    "\n",
    "### We slice the dataset into dependent and independent variables for modelling regression\n",
    "\n",
    "The dataset is sliced by the column names. We shall have all the independent variables in X and dependent / target variables in Y"
   ]
  },
  {
   "cell_type": "code",
   "execution_count": 13,
   "metadata": {
    "collapsed": true
   },
   "outputs": [],
   "source": [
    "X = women_stem_dummies[['Rank','Men','Women','Median_Inverse', 'Major_category_Biology & Life Science','Major_category_Computers & Mathematics', 'Major_category_Engineering','Major_category_Health', 'Major_category_Physical Sciences']]\n",
    "y = women_stem_dummies['ShareWomen']"
   ]
  },
  {
   "cell_type": "markdown",
   "metadata": {},
   "source": [
    "## Partitioning the data set into training and testing\n",
    "\n",
    "Train dataset is used to form a linear equation and get the co-efficients for the independent variables.\n",
    "Test dataset is used to test the output of the model against the actual data values.\n",
    "We shall be partitioning the dataset as 80-20 i.e. 80% for training and 20% for testing"
   ]
  },
  {
   "cell_type": "code",
   "execution_count": 14,
   "metadata": {
    "collapsed": true
   },
   "outputs": [],
   "source": [
    "from sklearn.model_selection import train_test_split\n",
    "X_train, X_test, y_train, y_test = train_test_split(X, y, test_size=0.2, random_state=12345)"
   ]
  },
  {
   "cell_type": "markdown",
   "metadata": {},
   "source": [
    "## Linear Modelling\n",
    "\n",
    "### Creating a model based on Linear Regression\n",
    "\n",
    "We shall be using LinearRegression model from sci-kit learn to form a linear regression model and fit our data to get the coefficients for the independent variables"
   ]
  },
  {
   "cell_type": "code",
   "execution_count": 15,
   "metadata": {
    "collapsed": true
   },
   "outputs": [],
   "source": [
    "from sklearn.linear_model import LinearRegression\n",
    "stem_model= LinearRegression()\n",
    "stem_model.fit(X_train,y_train)\n",
    "Pred_Test= stem_model.predict(X_test)"
   ]
  },
  {
   "cell_type": "markdown",
   "metadata": {},
   "source": [
    "## Prediciting the output based on the model \n",
    "\n",
    "We shall be predicting the model output "
   ]
  },
  {
   "cell_type": "code",
   "execution_count": 16,
   "metadata": {
    "collapsed": true
   },
   "outputs": [],
   "source": [
    "Pred_Test= stem_model.predict(X_test)"
   ]
  },
  {
   "cell_type": "code",
   "execution_count": 17,
   "metadata": {},
   "outputs": [
    {
     "name": "stdout",
     "output_type": "stream",
     "text": [
      "Mean Squared Error (Train) : 0.00831963077033\n",
      "Mean Squared Error (Test) : 0.0192110322109\n"
     ]
    }
   ],
   "source": [
    "from sklearn import metrics\n",
    "\n",
    "\n",
    "MSE_Train = metrics.mean_squared_error(y_train,stem_model.predict(X_train))\n",
    "MSE_Test = metrics.mean_squared_error(y_test,  Pred_Test)\n",
    "\n",
    "print(\"Mean Squared Error (Train) :\", MSE_Train)\n",
    "print(\"Mean Squared Error (Test) :\", MSE_Test)"
   ]
  },
  {
   "cell_type": "markdown",
   "metadata": {},
   "source": [
    "## Comparing with another model\n",
    "\n",
    "### Create another model and compare the model for fit\n",
    "\n",
    "We shall be using Ordinary Least Squares model to train an another model and try to measure the effectiveness of the model over Linear Regression model"
   ]
  },
  {
   "cell_type": "code",
   "execution_count": 18,
   "metadata": {
    "collapsed": true
   },
   "outputs": [],
   "source": [
    "X = women_stem[['Men','Women','Median', 'Major_category']]\n",
    "y = women_stem['ShareWomen']\n",
    "\n",
    "from sklearn.model_selection import train_test_split\n",
    "X_train, X_test, y_train, y_test = train_test_split(X, y, test_size=0.2, random_state=12345)\n",
    "\n",
    "import statsmodels.formula.api as smf\n",
    "lm = smf.ols('ShareWomen ~ Men + Women + Median + C(Major_category)', data = women_stem).fit()"
   ]
  },
  {
   "cell_type": "markdown",
   "metadata": {},
   "source": [
    "### We check the summary to look at the  R-Sqaured, P(F) and coefficients of the independent variables"
   ]
  },
  {
   "cell_type": "code",
   "execution_count": 19,
   "metadata": {},
   "outputs": [
    {
     "data": {
      "text/html": [
       "<table class=\"simpletable\">\n",
       "<caption>OLS Regression Results</caption>\n",
       "<tr>\n",
       "  <th>Dep. Variable:</th>       <td>ShareWomen</td>    <th>  R-squared:         </th> <td>   0.814</td>\n",
       "</tr>\n",
       "<tr>\n",
       "  <th>Model:</th>                   <td>OLS</td>       <th>  Adj. R-squared:    </th> <td>   0.795</td>\n",
       "</tr>\n",
       "<tr>\n",
       "  <th>Method:</th>             <td>Least Squares</td>  <th>  F-statistic:       </th> <td>   42.56</td>\n",
       "</tr>\n",
       "<tr>\n",
       "  <th>Date:</th>             <td>Sat, 28 Oct 2017</td> <th>  Prob (F-statistic):</th> <td>1.97e-22</td>\n",
       "</tr>\n",
       "<tr>\n",
       "  <th>Time:</th>                 <td>19:26:17</td>     <th>  Log-Likelihood:    </th> <td>  67.597</td>\n",
       "</tr>\n",
       "<tr>\n",
       "  <th>No. Observations:</th>      <td>    76</td>      <th>  AIC:               </th> <td>  -119.2</td>\n",
       "</tr>\n",
       "<tr>\n",
       "  <th>Df Residuals:</th>          <td>    68</td>      <th>  BIC:               </th> <td>  -100.5</td>\n",
       "</tr>\n",
       "<tr>\n",
       "  <th>Df Model:</th>              <td>     7</td>      <th>                     </th>     <td> </td>   \n",
       "</tr>\n",
       "<tr>\n",
       "  <th>Covariance Type:</th>      <td>nonrobust</td>    <th>                     </th>     <td> </td>   \n",
       "</tr>\n",
       "</table>\n",
       "<table class=\"simpletable\">\n",
       "<tr>\n",
       "                        <td></td>                          <th>coef</th>     <th>std err</th>      <th>t</th>      <th>P>|t|</th>  <th>[0.025</th>    <th>0.975]</th>  \n",
       "</tr>\n",
       "<tr>\n",
       "  <th>Intercept</th>                                    <td>    0.6412</td> <td>    0.055</td> <td>   11.641</td> <td> 0.000</td> <td>    0.531</td> <td>    0.751</td>\n",
       "</tr>\n",
       "<tr>\n",
       "  <th>C(Major_category)[T.Computers & Mathematics]</th> <td>   -0.2438</td> <td>    0.044</td> <td>   -5.522</td> <td> 0.000</td> <td>   -0.332</td> <td>   -0.156</td>\n",
       "</tr>\n",
       "<tr>\n",
       "  <th>C(Major_category)[T.Engineering]</th>             <td>   -0.2953</td> <td>    0.045</td> <td>   -6.629</td> <td> 0.000</td> <td>   -0.384</td> <td>   -0.206</td>\n",
       "</tr>\n",
       "<tr>\n",
       "  <th>C(Major_category)[T.Health]</th>                  <td>    0.1831</td> <td>    0.043</td> <td>    4.276</td> <td> 0.000</td> <td>    0.098</td> <td>    0.269</td>\n",
       "</tr>\n",
       "<tr>\n",
       "  <th>C(Major_category)[T.Physical Sciences]</th>       <td>   -0.0624</td> <td>    0.044</td> <td>   -1.407</td> <td> 0.164</td> <td>   -0.151</td> <td>    0.026</td>\n",
       "</tr>\n",
       "<tr>\n",
       "  <th>Men</th>                                          <td>-1.395e-06</td> <td> 7.26e-07</td> <td>   -1.921</td> <td> 0.059</td> <td>-2.84e-06</td> <td> 5.44e-08</td>\n",
       "</tr>\n",
       "<tr>\n",
       "  <th>Women</th>                                        <td> 1.212e-06</td> <td> 5.59e-07</td> <td>    2.171</td> <td> 0.033</td> <td> 9.79e-08</td> <td> 2.33e-06</td>\n",
       "</tr>\n",
       "<tr>\n",
       "  <th>Median</th>                                       <td>-1.618e-06</td> <td> 1.28e-06</td> <td>   -1.260</td> <td> 0.212</td> <td>-4.18e-06</td> <td> 9.45e-07</td>\n",
       "</tr>\n",
       "</table>\n",
       "<table class=\"simpletable\">\n",
       "<tr>\n",
       "  <th>Omnibus:</th>       <td> 0.257</td> <th>  Durbin-Watson:     </th> <td>   1.822</td>\n",
       "</tr>\n",
       "<tr>\n",
       "  <th>Prob(Omnibus):</th> <td> 0.879</td> <th>  Jarque-Bera (JB):  </th> <td>   0.369</td>\n",
       "</tr>\n",
       "<tr>\n",
       "  <th>Skew:</th>          <td> 0.128</td> <th>  Prob(JB):          </th> <td>   0.832</td>\n",
       "</tr>\n",
       "<tr>\n",
       "  <th>Kurtosis:</th>      <td> 2.774</td> <th>  Cond. No.          </th> <td>2.99e+05</td>\n",
       "</tr>\n",
       "</table>"
      ],
      "text/plain": [
       "<class 'statsmodels.iolib.summary.Summary'>\n",
       "\"\"\"\n",
       "                            OLS Regression Results                            \n",
       "==============================================================================\n",
       "Dep. Variable:             ShareWomen   R-squared:                       0.814\n",
       "Model:                            OLS   Adj. R-squared:                  0.795\n",
       "Method:                 Least Squares   F-statistic:                     42.56\n",
       "Date:                Sat, 28 Oct 2017   Prob (F-statistic):           1.97e-22\n",
       "Time:                        19:26:17   Log-Likelihood:                 67.597\n",
       "No. Observations:                  76   AIC:                            -119.2\n",
       "Df Residuals:                      68   BIC:                            -100.5\n",
       "Df Model:                           7                                         \n",
       "Covariance Type:            nonrobust                                         \n",
       "================================================================================================================\n",
       "                                                   coef    std err          t      P>|t|      [0.025      0.975]\n",
       "----------------------------------------------------------------------------------------------------------------\n",
       "Intercept                                        0.6412      0.055     11.641      0.000       0.531       0.751\n",
       "C(Major_category)[T.Computers & Mathematics]    -0.2438      0.044     -5.522      0.000      -0.332      -0.156\n",
       "C(Major_category)[T.Engineering]                -0.2953      0.045     -6.629      0.000      -0.384      -0.206\n",
       "C(Major_category)[T.Health]                      0.1831      0.043      4.276      0.000       0.098       0.269\n",
       "C(Major_category)[T.Physical Sciences]          -0.0624      0.044     -1.407      0.164      -0.151       0.026\n",
       "Men                                          -1.395e-06   7.26e-07     -1.921      0.059   -2.84e-06    5.44e-08\n",
       "Women                                         1.212e-06   5.59e-07      2.171      0.033    9.79e-08    2.33e-06\n",
       "Median                                       -1.618e-06   1.28e-06     -1.260      0.212   -4.18e-06    9.45e-07\n",
       "==============================================================================\n",
       "Omnibus:                        0.257   Durbin-Watson:                   1.822\n",
       "Prob(Omnibus):                  0.879   Jarque-Bera (JB):                0.369\n",
       "Skew:                           0.128   Prob(JB):                        0.832\n",
       "Kurtosis:                       2.774   Cond. No.                     2.99e+05\n",
       "==============================================================================\n",
       "\n",
       "Warnings:\n",
       "[1] Standard Errors assume that the covariance matrix of the errors is correctly specified.\n",
       "[2] The condition number is large, 2.99e+05. This might indicate that there are\n",
       "strong multicollinearity or other numerical problems.\n",
       "\"\"\""
      ]
     },
     "execution_count": 19,
     "metadata": {},
     "output_type": "execute_result"
    }
   ],
   "source": [
    "lm.summary()"
   ]
  },
  {
   "cell_type": "markdown",
   "metadata": {},
   "source": [
    "We see that the model is valid based on values of P(F). The model "
   ]
  },
  {
   "cell_type": "markdown",
   "metadata": {},
   "source": [
    "Calculate the predicted values from model - Ordinary Least Squares method"
   ]
  },
  {
   "cell_type": "code",
   "execution_count": 20,
   "metadata": {
    "collapsed": true
   },
   "outputs": [],
   "source": [
    "Pred_Test_OLS = lm.predict(X_test)"
   ]
  },
  {
   "cell_type": "markdown",
   "metadata": {},
   "source": [
    "We need to the measure the effectiveness of the model. We shall use mean sqaured error for testing the same as for the Linear Regression model"
   ]
  },
  {
   "cell_type": "code",
   "execution_count": 21,
   "metadata": {},
   "outputs": [
    {
     "name": "stdout",
     "output_type": "stream",
     "text": [
      "Mean Squared Error (Train): 0.00873050734433\n",
      "Mean Squared Error (Test): 0.0142143950527\n"
     ]
    }
   ],
   "source": [
    "from sklearn import metrics\n",
    "\n",
    "MSE_Train = metrics.mean_squared_error(y_train,lm.predict(X_train))\n",
    "MSE_Test = metrics.mean_squared_error(y_test,  Pred_Test_OLS)\n",
    "\n",
    "print(\"Mean Squared Error (Train):\", MSE_Train)\n",
    "print(\"Mean Squared Error (Test):\", MSE_Test)"
   ]
  },
  {
   "cell_type": "markdown",
   "metadata": {},
   "source": [
    "We see that the ordinary least square regression is more fit to the data "
   ]
  }
 ],
 "metadata": {
  "kernelspec": {
   "display_name": "Python 3",
   "language": "python",
   "name": "python3"
  },
  "language_info": {
   "codemirror_mode": {
    "name": "ipython",
    "version": 3
   },
   "file_extension": ".py",
   "mimetype": "text/x-python",
   "name": "python",
   "nbconvert_exporter": "python",
   "pygments_lexer": "ipython3",
   "version": "3.6.1"
  }
 },
 "nbformat": 4,
 "nbformat_minor": 2
}
