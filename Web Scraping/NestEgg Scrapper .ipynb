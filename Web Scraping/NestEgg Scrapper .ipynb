{
 "cells": [
  {
   "cell_type": "markdown",
   "metadata": {},
   "source": [
    "### Imports"
   ]
  },
  {
   "cell_type": "code",
   "execution_count": 1,
   "metadata": {},
   "outputs": [],
   "source": [
    "import bs4\n",
    "import urllib3\n",
    "from bs4 import BeautifulSoup as soup\n",
    "import re\n",
    "import csv"
   ]
  },
  {
   "cell_type": "markdown",
   "metadata": {},
   "source": [
    "### Setting the url for scrapping "
   ]
  },
  {
   "cell_type": "code",
   "execution_count": 2,
   "metadata": {
    "collapsed": true
   },
   "outputs": [],
   "source": [
    "myurl = 'http://www.newegg.com/Video-Cards-Video-Devices/Category/ID-38'"
   ]
  },
  {
   "cell_type": "markdown",
   "metadata": {},
   "source": [
    "### Creating pool manager for managing http requests"
   ]
  },
  {
   "cell_type": "code",
   "execution_count": 3,
   "metadata": {
    "collapsed": true
   },
   "outputs": [],
   "source": [
    "http = urllib3.PoolManager()"
   ]
  },
  {
   "cell_type": "code",
   "execution_count": 4,
   "metadata": {},
   "outputs": [
    {
     "name": "stderr",
     "output_type": "stream",
     "text": [
      "C:\\Anaconda\\lib\\site-packages\\urllib3\\connectionpool.py:858: InsecureRequestWarning: Unverified HTTPS request is being made. Adding certificate verification is strongly advised. See: https://urllib3.readthedocs.io/en/latest/advanced-usage.html#ssl-warnings\n",
      "  InsecureRequestWarning)\n"
     ]
    }
   ],
   "source": [
    "# Get request to extract the contents from the website\n",
    "pg = http.request(url = myurl, method='GET')"
   ]
  },
  {
   "cell_type": "markdown",
   "metadata": {},
   "source": [
    "### Beautiful Soup object for parsing the web page "
   ]
  },
  {
   "cell_type": "code",
   "execution_count": 5,
   "metadata": {},
   "outputs": [],
   "source": [
    "page_soup = soup(pg.data, 'lxml')"
   ]
  },
  {
   "cell_type": "code",
   "execution_count": 6,
   "metadata": {},
   "outputs": [
    {
     "data": {
      "text/plain": [
       "'Video Cards & Video Devices'"
      ]
     },
     "execution_count": 6,
     "metadata": {},
     "output_type": "execute_result"
    }
   ],
   "source": [
    "# Getting the header information\n",
    "page_soup.h1.string"
   ]
  },
  {
   "cell_type": "code",
   "execution_count": 7,
   "metadata": {},
   "outputs": [
    {
     "data": {
      "text/plain": [
       "'Newegg.com - A great place to buy computers, computer parts, electronics, software, accessories, and DVDs online. With great prices, fast shipping, and top-rated customer service - once you know, you Newegg.'"
      ]
     },
     "execution_count": 7,
     "metadata": {},
     "output_type": "execute_result"
    }
   ],
   "source": [
    "# Printing the intial paragraph on the web page\n",
    "page_soup.p.string"
   ]
  },
  {
   "cell_type": "code",
   "execution_count": 8,
   "metadata": {
    "collapsed": true
   },
   "outputs": [],
   "source": [
    "#grabs each product\n",
    "containers = page_soup.find_all('div', {'class':'item-container'})"
   ]
  },
  {
   "cell_type": "code",
   "execution_count": 9,
   "metadata": {},
   "outputs": [
    {
     "data": {
      "text/plain": [
       "12"
      ]
     },
     "execution_count": 9,
     "metadata": {},
     "output_type": "execute_result"
    }
   ],
   "source": [
    "# Check number of products obtained in the response\n",
    "len(containers)"
   ]
  },
  {
   "cell_type": "markdown",
   "metadata": {},
   "source": [
    "### Sample an item in the list and extract it's information"
   ]
  },
  {
   "cell_type": "code",
   "execution_count": 10,
   "metadata": {},
   "outputs": [],
   "source": [
    "container = containers[0]"
   ]
  },
  {
   "cell_type": "markdown",
   "metadata": {},
   "source": [
    "** Brand **"
   ]
  },
  {
   "cell_type": "code",
   "execution_count": 11,
   "metadata": {},
   "outputs": [
    {
     "data": {
      "text/plain": [
       "'MSI'"
      ]
     },
     "execution_count": 11,
     "metadata": {},
     "output_type": "execute_result"
    }
   ],
   "source": [
    "# Brand for the product\n",
    "container.div.div.a.img['title']"
   ]
  },
  {
   "cell_type": "markdown",
   "metadata": {},
   "source": [
    "** Product Name **"
   ]
  },
  {
   "cell_type": "code",
   "execution_count": 12,
   "metadata": {},
   "outputs": [
    {
     "data": {
      "text/plain": [
       "'MSI GeForce GTX 1080 Ti DirectX 12 GTX 1080 Ti SEA HAWK X Video Card'"
      ]
     },
     "execution_count": 12,
     "metadata": {},
     "output_type": "execute_result"
    }
   ],
   "source": [
    "# Product Name\n",
    "title_container = container.find_all('a', {'class':'item-title'})\n",
    "title_container[0].text"
   ]
  },
  {
   "cell_type": "markdown",
   "metadata": {},
   "source": [
    "** Product Price **"
   ]
  },
  {
   "cell_type": "code",
   "execution_count": 13,
   "metadata": {},
   "outputs": [
    {
     "data": {
      "text/plain": [
       "'|$749.99\\xa0\\r            –'"
      ]
     },
     "execution_count": 13,
     "metadata": {},
     "output_type": "execute_result"
    }
   ],
   "source": [
    "price_container = container.find_all('li', {'class':'price-current'})\n",
    "price = price_container[0].text.strip().replace('\\n', '')\n",
    "price"
   ]
  },
  {
   "cell_type": "code",
   "execution_count": 14,
   "metadata": {},
   "outputs": [
    {
     "name": "stdout",
     "output_type": "stream",
     "text": [
      "$749.99\n"
     ]
    }
   ],
   "source": [
    "matcher = re.search(pattern=r'(\\$[0-9]+(\\.[0-9]{2})?)', string=price)\n",
    "if matcher:\n",
    "    print(matcher.group())"
   ]
  },
  {
   "cell_type": "markdown",
   "metadata": {},
   "source": [
    "### Loop through all containers to get the product information"
   ]
  },
  {
   "cell_type": "code",
   "execution_count": 15,
   "metadata": {},
   "outputs": [],
   "source": [
    "data = []\n",
    "for container in containers:\n",
    "    brand = container.div.div.a.img['title']\n",
    "    title_container = container.find_all('a', {'class':'item-title'})\n",
    "    product_name = title_container[0].text\n",
    "    shippinng_container = container.find_all('li', {'class':'price-ship'})\n",
    "    shipping = shippinng_container[0].text.strip()\n",
    "    \n",
    "    price_container = container.find_all('li', {'class':'price-current'})\n",
    "    price_string = price_container[0].text.strip().replace('\\n', '')\n",
    "    matcher = re.search(pattern=r'(\\$[0-9]+(\\.[0-9]{2})?)', string=price)\n",
    "    if matcher:\n",
    "        price = matcher.group()\n",
    "    else:\n",
    "        price = price_string\n",
    "        \n",
    "    data.append((brand, product_name, price, shipping))  "
   ]
  },
  {
   "cell_type": "markdown",
   "metadata": {},
   "source": [
    "** Write the information to csv file **"
   ]
  },
  {
   "cell_type": "code",
   "execution_count": 16,
   "metadata": {},
   "outputs": [],
   "source": [
    "\n",
    "# open a csv file with append, so old data will not be erased\n",
    "with open('products.csv', 'a') as csv_file:\n",
    " writer = csv.writer(csv_file)\n",
    " # The for loop\n",
    " for brand, name, price, ship in data:\n",
    "     writer.writerow([brand, name, price, shipping])"
   ]
  },
  {
   "cell_type": "markdown",
   "metadata": {},
   "source": [
    "### Verifying the data extracted from the website"
   ]
  },
  {
   "cell_type": "code",
   "execution_count": 17,
   "metadata": {
    "collapsed": true
   },
   "outputs": [],
   "source": [
    "import pandas as pd\n",
    "data = pd.read_csv('products.csv', names=['Brand', 'Product', 'Price', 'Shipping'])"
   ]
  },
  {
   "cell_type": "code",
   "execution_count": 18,
   "metadata": {},
   "outputs": [
    {
     "data": {
      "text/html": [
       "<div>\n",
       "<style>\n",
       "    .dataframe thead tr:only-child th {\n",
       "        text-align: right;\n",
       "    }\n",
       "\n",
       "    .dataframe thead th {\n",
       "        text-align: left;\n",
       "    }\n",
       "\n",
       "    .dataframe tbody tr th {\n",
       "        vertical-align: top;\n",
       "    }\n",
       "</style>\n",
       "<table border=\"1\" class=\"dataframe\">\n",
       "  <thead>\n",
       "    <tr style=\"text-align: right;\">\n",
       "      <th></th>\n",
       "      <th>Brand</th>\n",
       "      <th>Product</th>\n",
       "      <th>Price</th>\n",
       "      <th>Shipping</th>\n",
       "    </tr>\n",
       "  </thead>\n",
       "  <tbody>\n",
       "    <tr>\n",
       "      <th>0</th>\n",
       "      <td>MSI</td>\n",
       "      <td>MSI GeForce GTX 1080 Ti DirectX 12 GTX 1080 Ti...</td>\n",
       "      <td>$249.99</td>\n",
       "      <td>$4.99 Shipping</td>\n",
       "    </tr>\n",
       "    <tr>\n",
       "      <th>1</th>\n",
       "      <td>ASUS</td>\n",
       "      <td>ASUS ROG GeForce GTX 1070 STRIX-GTX1070-O8G-GA...</td>\n",
       "      <td>$249.99</td>\n",
       "      <td>$4.99 Shipping</td>\n",
       "    </tr>\n",
       "    <tr>\n",
       "      <th>2</th>\n",
       "      <td>EVGA</td>\n",
       "      <td>EVGA GeForce GTX 1060 GAMING DirectX 12 06G-P4...</td>\n",
       "      <td>$249.99</td>\n",
       "      <td>$4.99 Shipping</td>\n",
       "    </tr>\n",
       "    <tr>\n",
       "      <th>3</th>\n",
       "      <td>GIGABYTE</td>\n",
       "      <td>GIGABYTE GeForce GTX 1070 DirectX 12 GV-N1070G...</td>\n",
       "      <td>$249.99</td>\n",
       "      <td>$4.99 Shipping</td>\n",
       "    </tr>\n",
       "    <tr>\n",
       "      <th>4</th>\n",
       "      <td>ZOTAC</td>\n",
       "      <td>ZOTAC GeForce GTX 1060 AMP!, ZT-P10600B-10M, 6...</td>\n",
       "      <td>$249.99</td>\n",
       "      <td>$4.99 Shipping</td>\n",
       "    </tr>\n",
       "    <tr>\n",
       "      <th>5</th>\n",
       "      <td>XFX</td>\n",
       "      <td>XFX Radeon RX 580 DirectX 12 RX-580P427D6 GTS ...</td>\n",
       "      <td>$249.99</td>\n",
       "      <td>$4.99 Shipping</td>\n",
       "    </tr>\n",
       "    <tr>\n",
       "      <th>6</th>\n",
       "      <td>EVGA</td>\n",
       "      <td>EVGA GeForce GTX 1070 Ti SC GAMING 08G-P4-5671...</td>\n",
       "      <td>$249.99</td>\n",
       "      <td>$4.99 Shipping</td>\n",
       "    </tr>\n",
       "    <tr>\n",
       "      <th>7</th>\n",
       "      <td>MSI</td>\n",
       "      <td>MSI Radeon RX 570 DirectX 12 RX 570 GAMING X 4...</td>\n",
       "      <td>$249.99</td>\n",
       "      <td>$4.99 Shipping</td>\n",
       "    </tr>\n",
       "    <tr>\n",
       "      <th>8</th>\n",
       "      <td>GIGABYTE</td>\n",
       "      <td>GIGABYTE GeForce GTX 1080 Ti Turbo 11GD, GV-N1...</td>\n",
       "      <td>$249.99</td>\n",
       "      <td>$4.99 Shipping</td>\n",
       "    </tr>\n",
       "    <tr>\n",
       "      <th>9</th>\n",
       "      <td>ZOTAC</td>\n",
       "      <td>ZOTAC GeForce GTX 1080 Ti AMP Extreme Core 11G...</td>\n",
       "      <td>$249.99</td>\n",
       "      <td>$4.99 Shipping</td>\n",
       "    </tr>\n",
       "    <tr>\n",
       "      <th>10</th>\n",
       "      <td>ASUS</td>\n",
       "      <td>ASUS ROG Strix Radeon RX 570 O4G Gaming OC Edi...</td>\n",
       "      <td>$249.99</td>\n",
       "      <td>$4.99 Shipping</td>\n",
       "    </tr>\n",
       "    <tr>\n",
       "      <th>11</th>\n",
       "      <td>XFX</td>\n",
       "      <td>XFX RS XXX Edition Radeon RX 570 DirectX 12 RX...</td>\n",
       "      <td>$249.99</td>\n",
       "      <td>$4.99 Shipping</td>\n",
       "    </tr>\n",
       "    <tr>\n",
       "      <th>12</th>\n",
       "      <td>MSI</td>\n",
       "      <td>MSI GeForce GTX 1080 Ti DirectX 12 GTX 1080 Ti...</td>\n",
       "      <td>$749.99</td>\n",
       "      <td>$4.99 Shipping</td>\n",
       "    </tr>\n",
       "    <tr>\n",
       "      <th>13</th>\n",
       "      <td>ASUS</td>\n",
       "      <td>ASUS ROG GeForce GTX 1070 STRIX-GTX1070-O8G-GA...</td>\n",
       "      <td>$749.99</td>\n",
       "      <td>$4.99 Shipping</td>\n",
       "    </tr>\n",
       "    <tr>\n",
       "      <th>14</th>\n",
       "      <td>EVGA</td>\n",
       "      <td>EVGA GeForce GTX 1060 GAMING DirectX 12 06G-P4...</td>\n",
       "      <td>$749.99</td>\n",
       "      <td>$4.99 Shipping</td>\n",
       "    </tr>\n",
       "    <tr>\n",
       "      <th>15</th>\n",
       "      <td>GIGABYTE</td>\n",
       "      <td>GIGABYTE GeForce GTX 1070 DirectX 12 GV-N1070G...</td>\n",
       "      <td>$749.99</td>\n",
       "      <td>$4.99 Shipping</td>\n",
       "    </tr>\n",
       "    <tr>\n",
       "      <th>16</th>\n",
       "      <td>ZOTAC</td>\n",
       "      <td>ZOTAC GeForce GTX 1060 AMP!, ZT-P10600B-10M, 6...</td>\n",
       "      <td>$749.99</td>\n",
       "      <td>$4.99 Shipping</td>\n",
       "    </tr>\n",
       "    <tr>\n",
       "      <th>17</th>\n",
       "      <td>XFX</td>\n",
       "      <td>XFX Radeon RX 580 DirectX 12 RX-580P427D6 GTS ...</td>\n",
       "      <td>$749.99</td>\n",
       "      <td>$4.99 Shipping</td>\n",
       "    </tr>\n",
       "    <tr>\n",
       "      <th>18</th>\n",
       "      <td>EVGA</td>\n",
       "      <td>EVGA GeForce GTX 1070 Ti SC GAMING 08G-P4-5671...</td>\n",
       "      <td>$749.99</td>\n",
       "      <td>$4.99 Shipping</td>\n",
       "    </tr>\n",
       "    <tr>\n",
       "      <th>19</th>\n",
       "      <td>MSI</td>\n",
       "      <td>MSI Radeon RX 570 DirectX 12 RX 570 GAMING X 4...</td>\n",
       "      <td>$749.99</td>\n",
       "      <td>$4.99 Shipping</td>\n",
       "    </tr>\n",
       "    <tr>\n",
       "      <th>20</th>\n",
       "      <td>GIGABYTE</td>\n",
       "      <td>GIGABYTE GeForce GTX 1080 Ti Turbo 11GD, GV-N1...</td>\n",
       "      <td>$749.99</td>\n",
       "      <td>$4.99 Shipping</td>\n",
       "    </tr>\n",
       "    <tr>\n",
       "      <th>21</th>\n",
       "      <td>ZOTAC</td>\n",
       "      <td>ZOTAC GeForce GTX 1080 Ti AMP Extreme Core 11G...</td>\n",
       "      <td>$749.99</td>\n",
       "      <td>$4.99 Shipping</td>\n",
       "    </tr>\n",
       "    <tr>\n",
       "      <th>22</th>\n",
       "      <td>ASUS</td>\n",
       "      <td>ASUS ROG Strix Radeon RX 570 O4G Gaming OC Edi...</td>\n",
       "      <td>$749.99</td>\n",
       "      <td>$4.99 Shipping</td>\n",
       "    </tr>\n",
       "    <tr>\n",
       "      <th>23</th>\n",
       "      <td>XFX</td>\n",
       "      <td>XFX RS XXX Edition Radeon RX 570 DirectX 12 RX...</td>\n",
       "      <td>$749.99</td>\n",
       "      <td>$4.99 Shipping</td>\n",
       "    </tr>\n",
       "  </tbody>\n",
       "</table>\n",
       "</div>"
      ],
      "text/plain": [
       "       Brand                                            Product    Price  \\\n",
       "0        MSI  MSI GeForce GTX 1080 Ti DirectX 12 GTX 1080 Ti...  $249.99   \n",
       "1       ASUS  ASUS ROG GeForce GTX 1070 STRIX-GTX1070-O8G-GA...  $249.99   \n",
       "2       EVGA  EVGA GeForce GTX 1060 GAMING DirectX 12 06G-P4...  $249.99   \n",
       "3   GIGABYTE  GIGABYTE GeForce GTX 1070 DirectX 12 GV-N1070G...  $249.99   \n",
       "4      ZOTAC  ZOTAC GeForce GTX 1060 AMP!, ZT-P10600B-10M, 6...  $249.99   \n",
       "5        XFX  XFX Radeon RX 580 DirectX 12 RX-580P427D6 GTS ...  $249.99   \n",
       "6       EVGA  EVGA GeForce GTX 1070 Ti SC GAMING 08G-P4-5671...  $249.99   \n",
       "7        MSI  MSI Radeon RX 570 DirectX 12 RX 570 GAMING X 4...  $249.99   \n",
       "8   GIGABYTE  GIGABYTE GeForce GTX 1080 Ti Turbo 11GD, GV-N1...  $249.99   \n",
       "9      ZOTAC  ZOTAC GeForce GTX 1080 Ti AMP Extreme Core 11G...  $249.99   \n",
       "10      ASUS  ASUS ROG Strix Radeon RX 570 O4G Gaming OC Edi...  $249.99   \n",
       "11       XFX  XFX RS XXX Edition Radeon RX 570 DirectX 12 RX...  $249.99   \n",
       "12       MSI  MSI GeForce GTX 1080 Ti DirectX 12 GTX 1080 Ti...  $749.99   \n",
       "13      ASUS  ASUS ROG GeForce GTX 1070 STRIX-GTX1070-O8G-GA...  $749.99   \n",
       "14      EVGA  EVGA GeForce GTX 1060 GAMING DirectX 12 06G-P4...  $749.99   \n",
       "15  GIGABYTE  GIGABYTE GeForce GTX 1070 DirectX 12 GV-N1070G...  $749.99   \n",
       "16     ZOTAC  ZOTAC GeForce GTX 1060 AMP!, ZT-P10600B-10M, 6...  $749.99   \n",
       "17       XFX  XFX Radeon RX 580 DirectX 12 RX-580P427D6 GTS ...  $749.99   \n",
       "18      EVGA  EVGA GeForce GTX 1070 Ti SC GAMING 08G-P4-5671...  $749.99   \n",
       "19       MSI  MSI Radeon RX 570 DirectX 12 RX 570 GAMING X 4...  $749.99   \n",
       "20  GIGABYTE  GIGABYTE GeForce GTX 1080 Ti Turbo 11GD, GV-N1...  $749.99   \n",
       "21     ZOTAC  ZOTAC GeForce GTX 1080 Ti AMP Extreme Core 11G...  $749.99   \n",
       "22      ASUS  ASUS ROG Strix Radeon RX 570 O4G Gaming OC Edi...  $749.99   \n",
       "23       XFX  XFX RS XXX Edition Radeon RX 570 DirectX 12 RX...  $749.99   \n",
       "\n",
       "          Shipping  \n",
       "0   $4.99 Shipping  \n",
       "1   $4.99 Shipping  \n",
       "2   $4.99 Shipping  \n",
       "3   $4.99 Shipping  \n",
       "4   $4.99 Shipping  \n",
       "5   $4.99 Shipping  \n",
       "6   $4.99 Shipping  \n",
       "7   $4.99 Shipping  \n",
       "8   $4.99 Shipping  \n",
       "9   $4.99 Shipping  \n",
       "10  $4.99 Shipping  \n",
       "11  $4.99 Shipping  \n",
       "12  $4.99 Shipping  \n",
       "13  $4.99 Shipping  \n",
       "14  $4.99 Shipping  \n",
       "15  $4.99 Shipping  \n",
       "16  $4.99 Shipping  \n",
       "17  $4.99 Shipping  \n",
       "18  $4.99 Shipping  \n",
       "19  $4.99 Shipping  \n",
       "20  $4.99 Shipping  \n",
       "21  $4.99 Shipping  \n",
       "22  $4.99 Shipping  \n",
       "23  $4.99 Shipping  "
      ]
     },
     "execution_count": 18,
     "metadata": {},
     "output_type": "execute_result"
    }
   ],
   "source": [
    "data"
   ]
  }
 ],
 "metadata": {
  "kernelspec": {
   "display_name": "Python 3",
   "language": "python",
   "name": "python3"
  },
  "language_info": {
   "codemirror_mode": {
    "name": "ipython",
    "version": 3
   },
   "file_extension": ".py",
   "mimetype": "text/x-python",
   "name": "python",
   "nbconvert_exporter": "python",
   "pygments_lexer": "ipython3",
   "version": "3.6.1"
  }
 },
 "nbformat": 4,
 "nbformat_minor": 2
}
