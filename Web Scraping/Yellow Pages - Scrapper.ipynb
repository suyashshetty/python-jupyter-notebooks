{
 "cells": [
  {
   "cell_type": "code",
   "execution_count": 1,
   "metadata": {
    "collapsed": true
   },
   "outputs": [],
   "source": [
    "import requests\n",
    "from bs4 import BeautifulSoup\n",
    "import pandas as pd\n",
    "import numpy as np\n",
    "import time"
   ]
  },
  {
   "cell_type": "code",
   "execution_count": 2,
   "metadata": {
    "collapsed": true
   },
   "outputs": [],
   "source": [
    "city = ['Dallas', 'Richardson', 'San Jose']\n",
    "state = ['TX', 'TX', 'CA']\n",
    "r = requests.get('https://www.yellowpages.com/search?search_terms=Indian+Restaurants&geo_location_terms=Dallas%2C+TX')"
   ]
  },
  {
   "cell_type": "code",
   "execution_count": 3,
   "metadata": {},
   "outputs": [],
   "source": [
    "soup = BeautifulSoup(r.content, 'lxml')"
   ]
  },
  {
   "cell_type": "code",
   "execution_count": 4,
   "metadata": {
    "scrolled": false
   },
   "outputs": [],
   "source": [
    "hrefs = []\n",
    "texts = []\n",
    "count = 0\n",
    "for link in soup.find_all(\"a\"):\n",
    "    try:\n",
    "        hrefs.append(link['href'])\n",
    "        texts.append(link.text)\n",
    "    except:\n",
    "        count += 1"
   ]
  },
  {
   "cell_type": "code",
   "execution_count": 5,
   "metadata": {
    "collapsed": true
   },
   "outputs": [],
   "source": [
    "info_data = soup.find_all(\"div\", {\"class\":\"info\"})"
   ]
  },
  {
   "cell_type": "code",
   "execution_count": 6,
   "metadata": {
    "collapsed": true
   },
   "outputs": [],
   "source": [
    "def get_soup(url):\n",
    "    return BeautifulSoup(requests.get(url).content, 'lxml')"
   ]
  },
  {
   "cell_type": "code",
   "execution_count": 7,
   "metadata": {},
   "outputs": [],
   "source": [
    "def get_address_info(soup, category):\n",
    "    business_name = street_address = locality = region = postal_code = phone_number = \"\"\n",
    "    info_data = soup.find_all(\"div\", {\"class\":\"info\"})\n",
    "    data = []\n",
    "    for item in info_data:\n",
    "        business_name = (item.contents[0].find_all(\"a\", {'class':'business-name'})[0].text)\n",
    "        try:\n",
    "            street_address = item.contents[1].find_all(\"span\", {'itemprop':'streetAddress'})[0].text\n",
    "        except:\n",
    "            street_address = None\n",
    "        try:\n",
    "            locality = item.contents[1].find_all(\"span\", {'itemprop':'addressLocality'})[0].text.replace(',','')\n",
    "        except:\n",
    "            locality = None\n",
    "        try:\n",
    "            region = item.contents[1].find_all(\"span\", {'itemprop':'addressRegion'})[0].text\n",
    "        except:\n",
    "            region = None\n",
    "        try:\n",
    "            postal_code = item.contents[1].find_all(\"span\", {'itemprop':'postalCode'})[0].text\n",
    "        except:\n",
    "            postal_code = None\n",
    "        try:\n",
    "            phone_number = item.contents[1].find_all(\"div\", {\"class\":\"primary\"})[0].text\n",
    "        except:\n",
    "            phone_number = None\n",
    "        data.append({'Business':business_name, 'Street':street_address, 'Locality':locality, 'Region':region, \n",
    "                     'Postal Code':postal_code, 'Phone Number':phone_number, 'Category':category})\n",
    "    df = pd.DataFrame(data)\n",
    "    return df"
   ]
  },
  {
   "cell_type": "code",
   "execution_count": 8,
   "metadata": {
    "collapsed": true
   },
   "outputs": [],
   "source": [
    "def get_additional_page_info(objSoup, category):\n",
    "    addresses = []\n",
    "    pages = objSoup.find_all(\"div\", {\"class\":\"pagination\"})\n",
    "    urls = pages[0].find_all(\"a\")[:-1]\n",
    "    for url in urls:\n",
    "        soup_url = 'https://www.yellowpages.com' + url.get(\"href\")\n",
    "        soup_obj = get_soup(soup_url)\n",
    "        addresses.append(get_address_info(soup_obj, category))\n",
    "        print(soup_url)\n",
    "        time.sleep(1)\n",
    "    return addresses"
   ]
  },
  {
   "cell_type": "code",
   "execution_count": 11,
   "metadata": {},
   "outputs": [
    {
     "name": "stdout",
     "output_type": "stream",
     "text": [
      "https://www.yellowpages.com/search?search_terms=Indian%20Restaurants&geo_location_terms=Dallas%2CTX&page=2\n",
      "https://www.yellowpages.com/search?search_terms=Indian%20Restaurants&geo_location_terms=Dallas%2CTX&page=3\n",
      "https://www.yellowpages.com/search?search_terms=Indian%20Restaurants&geo_location_terms=Dallas%2CTX&page=4\n",
      "https://www.yellowpages.com/search?search_terms=Indian%20Restaurants&geo_location_terms=Dallas%2CTX&page=5\n",
      "https://www.yellowpages.com/search?search_terms=Indian+Restaurants&geo_location_terms=Dallas,TX\n",
      "https://www.yellowpages.com/search?search_terms=Indian%20Restaurants&geo_location_terms=Richardson%2CTX&page=2\n",
      "https://www.yellowpages.com/search?search_terms=Indian%20Restaurants&geo_location_terms=Richardson%2CTX&page=3\n",
      "https://www.yellowpages.com/search?search_terms=Indian%20Restaurants&geo_location_terms=Richardson%2CTX&page=4\n",
      "https://www.yellowpages.com/search?search_terms=Indian%20Restaurants&geo_location_terms=Richardson%2CTX&page=5\n",
      "https://www.yellowpages.com/search?search_terms=Indian+Restaurants&geo_location_terms=Richardson,TX\n",
      "https://www.yellowpages.com/search?search_terms=Indian%20Restaurants&geo_location_terms=San%20Jose%2CCA&page=2\n",
      "https://www.yellowpages.com/search?search_terms=Indian%20Restaurants&geo_location_terms=San%20Jose%2CCA&page=3\n",
      "https://www.yellowpages.com/search?search_terms=Indian%20Restaurants&geo_location_terms=San%20Jose%2CCA&page=4\n",
      "https://www.yellowpages.com/search?search_terms=Indian%20Restaurants&geo_location_terms=San%20Jose%2CCA&page=5\n",
      "https://www.yellowpages.com/search?search_terms=Indian+Restaurants&geo_location_terms=San%20Jose,CA\n",
      "https://www.yellowpages.com/search?search_terms=Walmart&geo_location_terms=Dallas%2CTX&page=2\n",
      "https://www.yellowpages.com/search?search_terms=Walmart&geo_location_terms=Dallas%2CTX&page=3\n",
      "https://www.yellowpages.com/search?search_terms=Walmart&geo_location_terms=Dallas%2CTX&page=4\n",
      "https://www.yellowpages.com/search?search_terms=Walmart&geo_location_terms=Dallas%2CTX&page=5\n",
      "https://www.yellowpages.com/search?search_terms=Walmart&geo_location_terms=Dallas,TX\n",
      "https://www.yellowpages.com/search?search_terms=Walmart&geo_location_terms=Richardson%2CTX&page=2\n",
      "https://www.yellowpages.com/search?search_terms=Walmart&geo_location_terms=Richardson%2CTX&page=3\n",
      "https://www.yellowpages.com/search?search_terms=Walmart&geo_location_terms=Richardson%2CTX&page=4\n",
      "https://www.yellowpages.com/search?search_terms=Walmart&geo_location_terms=Richardson%2CTX&page=5\n",
      "https://www.yellowpages.com/search?search_terms=Walmart&geo_location_terms=Richardson,TX\n",
      "https://www.yellowpages.com/search?search_terms=Walmart&geo_location_terms=San%20Jose%2CCA&page=2\n",
      "https://www.yellowpages.com/search?search_terms=Walmart&geo_location_terms=San%20Jose%2CCA&page=3\n",
      "https://www.yellowpages.com/search?search_terms=Walmart&geo_location_terms=San%20Jose,CA\n"
     ]
    }
   ],
   "source": [
    "cities = ['Dallas', 'Richardson', 'San%20Jose']\n",
    "states = ['TX', 'TX', 'CA']\n",
    "search_terms = ['Indian+Restaurants', 'Walmart']\n",
    "\n",
    "frames = []\n",
    "\n",
    "for term in search_terms:\n",
    "    for city, state in list(zip(cities, states)):\n",
    "        url = 'https://www.yellowpages.com/search?search_terms=' + term + '&geo_location_terms='+ city +',' + state\n",
    "        soup = get_soup(url);\n",
    "        frames.append(get_address_info(soup, category=term))\n",
    "        for frame in get_additional_page_info(soup, category=term):\n",
    "            frames.append(frame)\n",
    "        print(url)\n",
    "        time.sleep(1)\n",
    "        \n",
    "df = pd.concat(frames)"
   ]
  },
  {
   "cell_type": "code",
   "execution_count": 12,
   "metadata": {},
   "outputs": [
    {
     "data": {
      "text/plain": [
       "(825, 7)"
      ]
     },
     "execution_count": 12,
     "metadata": {},
     "output_type": "execute_result"
    }
   ],
   "source": [
    "df.shape"
   ]
  },
  {
   "cell_type": "code",
   "execution_count": 13,
   "metadata": {
    "scrolled": true
   },
   "outputs": [],
   "source": [
    "df.to_csv('Yellow-Pages-Scrape.csv')"
   ]
  },
  {
   "cell_type": "code",
   "execution_count": null,
   "metadata": {
    "collapsed": true
   },
   "outputs": [],
   "source": []
  }
 ],
 "metadata": {
  "kernelspec": {
   "display_name": "Python 3",
   "language": "python",
   "name": "python3"
  },
  "language_info": {
   "codemirror_mode": {
    "name": "ipython",
    "version": 3
   },
   "file_extension": ".py",
   "mimetype": "text/x-python",
   "name": "python",
   "nbconvert_exporter": "python",
   "pygments_lexer": "ipython3",
   "version": "3.6.1"
  }
 },
 "nbformat": 4,
 "nbformat_minor": 2
}
